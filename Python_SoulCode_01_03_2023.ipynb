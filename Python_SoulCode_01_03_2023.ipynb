{
  "nbformat": 4,
  "nbformat_minor": 0,
  "metadata": {
    "colab": {
      "provenance": [],
      "collapsed_sections": [
        "pPeDbrOWPX6T",
        "WEStyT8qNsGe",
        "3H8P9UXmOJAP",
        "YRc-RtyXVyol",
        "0fpAFpsJWNGA",
        "RIqDMVprWgFy",
        "PN3HoJxDWp_e",
        "bcRa4f5zWyqc"
      ],
      "authorship_tag": "ABX9TyPoUEv3MPJhAytub+9VCwqL",
      "include_colab_link": true
    },
    "kernelspec": {
      "name": "python3",
      "display_name": "Python 3"
    },
    "language_info": {
      "name": "python"
    }
  },
  "cells": [
    {
      "cell_type": "markdown",
      "metadata": {
        "id": "view-in-github",
        "colab_type": "text"
      },
      "source": [
        "<a href=\"https://colab.research.google.com/github/francianerod/Python-SoulCode/blob/main/Python_SoulCode_01_03_2023.ipynb\" target=\"_parent\"><img src=\"https://colab.research.google.com/assets/colab-badge.svg\" alt=\"Open In Colab\"/></a>"
      ]
    },
    {
      "cell_type": "markdown",
      "source": [
        "**Escola**: SoulCode Academy\n",
        "\n",
        "**Curso:** Bootcamp Analista de Dados - Martech - AD1\n",
        "\n",
        "**Data:** 01 de março de 2023\n",
        "\n",
        "**Professor:** Bismark William\n",
        "\n",
        "**Aluna:** Franciane Rodrigues"
      ],
      "metadata": {
        "id": "m4HdkrP_EHVK"
      }
    },
    {
      "cell_type": "markdown",
      "source": [
        "# **Estrutura de repetição: FOR**"
      ],
      "metadata": {
        "id": "Gs7VsTg4IVaN"
      }
    },
    {
      "cell_type": "markdown",
      "source": [
        "## **Conteúdo**"
      ],
      "metadata": {
        "id": "pPeDbrOWPX6T"
      }
    },
    {
      "cell_type": "code",
      "execution_count": null,
      "metadata": {
        "id": "Esal9JofECyz"
      },
      "outputs": [],
      "source": [
        "# Revisão While\n",
        "\"\"\"\n",
        "# Gerará a repetição de 10 vezes\n",
        "\n",
        "contador = 1 # Inicio de contador - se não for colocada pode dar um errado\n",
        "while contador <=10: #condição de parada\n",
        " contador = contador + 1 # incremento do contador - se eu esquecer virá um loop infinitto\n",
        "\"\"\"\n",
        "\n",
        "# Sintaxe do comando FOR\n",
        "'''\n",
        "for contador in range():\n",
        "  pass\n",
        "'''\n",
        "\n",
        "# Algumas observações adicionais\n",
        "'''\n",
        "Escrever na tela os número de 0 a 9\n",
        "Isso também gerará a repetição de 10 vezes com uma linha de código\n",
        "A função range poderá ter até 3 argumentos\n",
        "for i in range (inicio_do_contador, condição_de_parada, incremento ou decremento)\n",
        "\n",
        "# 1° Forma - utilizando o range com apenas um argumento\n",
        "# contador = 0\n",
        "# incremento aumenta de 1 em 1\n",
        "# for contador in range(10) - inicio do contador, condição e parada e incremento, o (10) é a condição de parada\n",
        "'''\n",
        "\n",
        "# Diferenças do while e for\n",
        "\n",
        "'''\n",
        "Validação: While\n",
        "repetição: For\n",
        "\n",
        "for é necessário saber a quantidade de vezez que vai executar o loop\n",
        "while poderá ir rodando o loop por uma quantidade indeterminada\n",
        "'''"
      ]
    },
    {
      "cell_type": "code",
      "source": [
        "# 1° Forma - utilizando o range com apenas um argumento - condição de parada com incremento 1 por padrão\n",
        "for contador in range(10):\n",
        "  print(contador)"
      ],
      "metadata": {
        "id": "GqDeHDd5G8Ls"
      },
      "execution_count": null,
      "outputs": []
    },
    {
      "cell_type": "code",
      "source": [
        "# 2° Forma - utilizando o range com apenas 2 argumentos - inicio do contador e a condição de parada\n",
        "for contador in range(1, 11): \n",
        "  print(contador)"
      ],
      "metadata": {
        "id": "Ryz3XwZkHuZd"
      },
      "execution_count": null,
      "outputs": []
    },
    {
      "cell_type": "code",
      "source": [
        "# 3° Forma - utilizando o range com apenas 3 argumentos - inicio do contador, condição de parada e incremento\n",
        "for contador in range(5, 20, 3): \n",
        "  print(contador)"
      ],
      "metadata": {
        "id": "7iGvUg6QIetm"
      },
      "execution_count": null,
      "outputs": []
    },
    {
      "cell_type": "code",
      "source": [
        "# Outras formas de usar o for: o comando for será útil para percorrer listas\n",
        "\n",
        "fruta = 'banana'\n",
        "for contador in fruta:\n",
        "  print(contador)"
      ],
      "metadata": {
        "id": "dozhYNWwJHQy"
      },
      "execution_count": null,
      "outputs": []
    },
    {
      "cell_type": "code",
      "source": [
        "# Escrever na tela os números de 1 a 20 em ordem decrescente\n",
        "\n",
        "for i in range(20, 0, -1):\n",
        "  print(i, end =' ')"
      ],
      "metadata": {
        "id": "83zxwdo6J_yV"
      },
      "execution_count": null,
      "outputs": []
    },
    {
      "cell_type": "code",
      "source": [
        "# Calculando fatorial com for\n",
        "\n",
        "fat = 1\n",
        "n = int(input('n: '))\n",
        "for i in range(n, 1, -1):\n",
        "  fat *= i\n",
        "print(fat)"
      ],
      "metadata": {
        "id": "fw334uuzMjbA"
      },
      "execution_count": null,
      "outputs": []
    },
    {
      "cell_type": "markdown",
      "source": [
        "## **Atividade 1**"
      ],
      "metadata": {
        "id": "WEStyT8qNsGe"
      }
    },
    {
      "cell_type": "markdown",
      "source": [
        "Crie um programa em Python que escreva na tela os números de 250 a 120 em ordem decrescente."
      ],
      "metadata": {
        "id": "gpToEt9AN2Em"
      }
    },
    {
      "cell_type": "code",
      "source": [
        "for i in range(250, 119, -1):\n",
        "  print(i, end =' ')"
      ],
      "metadata": {
        "id": "jg-e2w4gNkm1"
      },
      "execution_count": null,
      "outputs": []
    },
    {
      "cell_type": "markdown",
      "source": [
        "## **Atividade 2**"
      ],
      "metadata": {
        "id": "3H8P9UXmOJAP"
      }
    },
    {
      "cell_type": "markdown",
      "source": [
        "Crie um programa em Python que escreva na tela os números de 1000 a 1500 em ordem crescente."
      ],
      "metadata": {
        "id": "Zb1ca-uNObA5"
      }
    },
    {
      "cell_type": "code",
      "source": [
        "for i in range(1000, 1501):\n",
        "  print(i, end =' ')"
      ],
      "metadata": {
        "id": "_AYTCYVwOIAh"
      },
      "execution_count": null,
      "outputs": []
    },
    {
      "cell_type": "markdown",
      "source": [
        "## **Atividade 3**"
      ],
      "metadata": {
        "id": "YRc-RtyXVyol"
      }
    },
    {
      "cell_type": "markdown",
      "source": [
        "Faça um programa que leia 10 números inteiros positivos e mostre, no final, a soma dos números pares e a soma dos números ímpares."
      ],
      "metadata": {
        "id": "pKX0t4qiV4k6"
      }
    },
    {
      "cell_type": "code",
      "source": [
        "soma_pares = 0\n",
        "soma_impares = 0\n",
        "\n",
        "for i in range(10):\n",
        "    num = int(input(\"Digite um número inteiro positivo: \"))\n",
        "    if num % 2 == 0:\n",
        "        soma_pares += num\n",
        "    else:\n",
        "        soma_impares += num\n",
        "\n",
        "print(\"A soma dos números pares é:\", soma_pares)\n",
        "print(\"A soma dos números ímpares é:\", soma_impares)"
      ],
      "metadata": {
        "id": "FnrCqBNrXn-B"
      },
      "execution_count": null,
      "outputs": []
    },
    {
      "cell_type": "code",
      "source": [
        "soma_par = 0\n",
        "soma_impar = 0\n",
        "\n",
        "for i in range(10):\n",
        "  n = int(input(f'Digite o {i + 1}º número: '))\n",
        "\n",
        "  while n < 1:\n",
        "    n = int(input(f'Digite o {i + 1}º número: '))\n",
        "  \n",
        "  if n % 2 == 0:\n",
        "    soma_par += n\n",
        "  else:\n",
        "    soma_impar += n\n",
        "\n",
        "print(f'A soma dos números pares digitados foi {soma_par}')\n",
        "print(f'A soma dos números ímpares digitados foi {soma_impar}')"
      ],
      "metadata": {
        "id": "ok-Gksf170nB"
      },
      "execution_count": null,
      "outputs": []
    },
    {
      "cell_type": "markdown",
      "source": [
        "## **Atividade 4**"
      ],
      "metadata": {
        "id": "0fpAFpsJWNGA"
      }
    },
    {
      "cell_type": "markdown",
      "source": [
        "Crie um programa que leia 10 números e informe na tela o maior e o menor número lido."
      ],
      "metadata": {
        "id": "zGILOM0vWSn_"
      }
    },
    {
      "cell_type": "code",
      "source": [
        "for i in range(6):\n",
        "  n = int(input(f'Digite o {i+1} número: '))\n",
        "\n",
        "  if i == 0:\n",
        "    maior = n\n",
        "    menor = n\n",
        "  elif n > maior:\n",
        "    maior = n\n",
        "  elif n < menor:\n",
        "    menor = n\n",
        "\n",
        "print(f'O maior número digitado foi  {maior}')\n",
        "print(f'O menor número digitado foi {menor}')"
      ],
      "metadata": {
        "id": "S2-nPzOF_2D7"
      },
      "execution_count": null,
      "outputs": []
    },
    {
      "cell_type": "markdown",
      "source": [
        "## **Atividade 5**"
      ],
      "metadata": {
        "id": "RIqDMVprWgFy"
      }
    },
    {
      "cell_type": "markdown",
      "source": [
        "Em uma turma há 10 alunos. Cada aluno tem 2 notas. Um professor precisa calcular a média das duas notas de cada aluno. Crie um programa que resolva este problema."
      ],
      "metadata": {
        "id": "E8Jlf8rpWlCQ"
      }
    },
    {
      "cell_type": "code",
      "source": [
        "for i in range(10):\n",
        "  soma_notas = 0\n",
        "  for j in range(2):\n",
        "    nota = float(input(f'Digite a {j + 1}ª nota do aluno {i + 1}: '))\n",
        "\n",
        "    while nota < 0 or nota > 10:\n",
        "      nota = float(input(f'Digite a {j + 1}ª nota do aluno {i + 1}: '))\n",
        "    soma_notas = soma_notas + nota\n",
        "  media_notas = soma_notas / 2\n",
        "  print(f'A média do aluno {i+1} foi {media_notas}')"
      ],
      "metadata": {
        "id": "xgx7LdrVBtTf"
      },
      "execution_count": null,
      "outputs": []
    },
    {
      "cell_type": "markdown",
      "source": [
        "## **Atividade 6**"
      ],
      "metadata": {
        "id": "PN3HoJxDWp_e"
      }
    },
    {
      "cell_type": "markdown",
      "source": [
        "Digitados dois números (base e expoente ), calcule o resultado  da potência utilizando apenas operadores básicos da matemática (soma, subtração, multiplicação ou divisão) e o comando FOR;"
      ],
      "metadata": {
        "id": "ttzrxLaTWtat"
      }
    },
    {
      "cell_type": "code",
      "source": [
        "'''\n",
        " base = 2\n",
        " expoente = 3 \n",
        " 2 * 2 * 2\n",
        " resultado = 8\n",
        "\n",
        " base = 3\n",
        " expoente = 2\n",
        " 3 * 3\n",
        " resultado = 9 \n",
        "'''\n",
        "base = int(input('Digite o valor da base: '))\n",
        "exp = int(input('Digite o valor do expoente: '))\n",
        "\n",
        "resultado = 1\n",
        "\n",
        "for i in range(exp):\n",
        "  resultado = resultado * base\n",
        "\n",
        "print(resultado)"
      ],
      "metadata": {
        "id": "AnyVEKV6DpMi"
      },
      "execution_count": null,
      "outputs": []
    },
    {
      "cell_type": "markdown",
      "source": [
        "## **Atividade 7**"
      ],
      "metadata": {
        "id": "bcRa4f5zWyqc"
      }
    },
    {
      "cell_type": "markdown",
      "source": [
        "Dado um número n inteiro e positivo, dizemos que n é perfeito se n for igual à soma de seus divisores positivos diferentes de n. Construa um programa em python que verifica se um dado número é perfeito. Ex: 6 é perfeito, pois 1+2+3 = 6."
      ],
      "metadata": {
        "id": "Z4gFZFmEW2T0"
      }
    },
    {
      "cell_type": "code",
      "source": [
        "n = int(input('Digite um número positivo: '))\n",
        "while n < 1:\n",
        "  n = int(input('Digite um número positivo: '))\n",
        "\n",
        "soma_divisor = 0\n",
        "\n",
        "for i in range(1, n):\n",
        "  if n % i == 0:\n",
        "    soma_divisor += i\n",
        "\n",
        "print('É perfeito') if soma_divisor == n else print('Não é perfeito!')"
      ],
      "metadata": {
        "id": "_uj5JCKpF8eT"
      },
      "execution_count": null,
      "outputs": []
    },
    {
      "cell_type": "markdown",
      "source": [
        "## **Atividade 8**"
      ],
      "metadata": {
        "id": "5PZUST5FW62D"
      }
    },
    {
      "cell_type": "markdown",
      "source": [
        "Escreva um programa em Python que leia um número inteiro positivo e diga se o número informado é primo"
      ],
      "metadata": {
        "id": "SAGSD2zAXctg"
      }
    },
    {
      "cell_type": "code",
      "source": [
        "'''\n",
        "1 - Não - 1\n",
        "2 - Primo - 1, 2\n",
        "3 - Primo - 1, 3\n",
        "4 - Não - 1, 2, 4\n",
        "5 - Primo 1, 5\n",
        "6 - Não - 1, 2, 3, 6\n",
        "7 - Primo - 1, 7\n",
        "Os números primos são os únicos que possuem apenas 2 divisores\n",
        "'''\n"
      ],
      "metadata": {
        "id": "4C841zY1J7KV"
      },
      "execution_count": null,
      "outputs": []
    },
    {
      "cell_type": "code",
      "source": [
        "numero = int(input('digite um numero inteiro : '))\n",
        "while numero < 1:\n",
        "  numero = int(input('Por favor, digite um numero: '))\n",
        "if(numero % 2 !=0 or numero==2):\n",
        "  print('Numero primo')"
      ],
      "metadata": {
        "id": "U0l7jzVZJ9e_"
      },
      "execution_count": null,
      "outputs": []
    },
    {
      "cell_type": "code",
      "source": [
        "divisores = 0\n",
        "\n",
        "numero = int(input(\"Digite um número inteiro positivo: \"))\n",
        "    \n",
        "for i in range(1, numero+1):\n",
        "  if numero % i == 0:\n",
        "    divisores += 1\n",
        "    \n",
        "if divisores == 2:\n",
        "  print(f'{numero} é um número primo')\n",
        "  \n",
        "else:\n",
        "  print(f'Não é número primo')"
      ],
      "metadata": {
        "id": "JaimENp2KSRl"
      },
      "execution_count": null,
      "outputs": []
    },
    {
      "cell_type": "code",
      "source": [
        "n = int(input('Digite um número inteiro positivo: '))\n",
        "if n != 1:\n",
        "  retorno = ''\n",
        "else:\n",
        "  retorno = 'Não é primo'\n",
        "\n",
        "for i in range(2, n, 1):\n",
        "  if n % i == 0:\n",
        "    retorno = 'Não é primo'\n",
        "    break\n",
        "else:\n",
        "  print('Terminou')\n",
        "  \n",
        "print('Terminou! ')\n",
        "  \n",
        "if retorno == 'Não é primo':\n",
        "  print(retorno)\n",
        "else:\n",
        "  print('É primo')"
      ],
      "metadata": {
        "id": "cOaBq6kYMk85"
      },
      "execution_count": null,
      "outputs": []
    },
    {
      "cell_type": "code",
      "source": [
        "# Professor\n",
        "\n",
        "# Algoritmo Par ou impar - operador ternário - comando if condição else comando\n",
        "\n",
        "n = int(input('Digite um número qualquer: ')\n",
        "print('par') if n % 2 == 0 else print (impar)"
      ],
      "metadata": {
        "id": "MNvb5wVPgykP"
      },
      "execution_count": null,
      "outputs": []
    },
    {
      "cell_type": "markdown",
      "source": [
        "# **Estrutura de dados**"
      ],
      "metadata": {
        "id": "P1NNB2cGP-1t"
      }
    },
    {
      "cell_type": "code",
      "source": [
        "# As variáveis são dinâmicas, mas armazenam 1 valor por vez\n",
        "# Crie um programa que armazene o nome de 100 alunos\n",
        "# Crie um programa que armazene o salario de 50 funcionarios\n",
        "# Crie um programa que armazene o nome, altura e o peso de 250 atletas\n",
        "\n",
        "# Temos um problema com esse armazenamento"
      ],
      "metadata": {
        "id": "_G_Uo08jQFrd"
      },
      "execution_count": null,
      "outputs": []
    },
    {
      "cell_type": "code",
      "source": [
        "# Listas\n",
        "'''\n",
        "Sequencia de dados\n",
        "Conjunto de dados enfileirados\n",
        "Possui alguma afinidade\n",
        "Estrutura de dados para armazenar informação\n",
        "Inventário\n",
        "Coleção que pode ser alterada, ordenada\n",
        "Variável que pode armazenar varias informações independentes\n",
        "Possui dados em comum\n",
        "'''"
      ],
      "metadata": {
        "id": "Awv5pzTPRtG3"
      },
      "execution_count": null,
      "outputs": []
    },
    {
      "cell_type": "markdown",
      "source": [
        "![Sem título.png](data:image/png;base64,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)"
      ],
      "metadata": {
        "id": "tj6IpOQ1UzMV"
      }
    },
    {
      "cell_type": "code",
      "source": [
        "#FAZENDO UM BACKUP DE UMA LISTA\n",
        "frutas1 = ['Banana', 'Abacate', 'Uva', 'Jaca']\n",
        "#frutas_bkp = frutas1 CRIAR UM PONTEIRO APONTANDO PARA FRUTAS1, ENTÃO TODA ALTERAÇÃO SERÁ REFLETIDA\n",
        "frutas_bkp = frutas1.copy()"
      ],
      "metadata": {
        "id": "S4q-HfV5jQ51"
      },
      "execution_count": null,
      "outputs": []
    },
    {
      "cell_type": "code",
      "source": [
        "#CRIANDO UMA LISTA VAZIA\n",
        "carros = []\n",
        "#CRIANDO UMA LISTA COM ELEMENTOS\n",
        "carros = ['Corolla', 'Gol', 'Uno com escada']\n",
        "precos = [2.80, 7.95, 1.05]\n",
        "idade = [10, 26, 8, 71]\n",
        "misturado = ['Joaquim', 10, True, 9.80]\n",
        "lista_com_lista = ['Nome', 10, ['Nome', 'Nome2', 10.87]]\n",
        "\n",
        "lista_com_lista[2][2]\n",
        "\n",
        "lista_com_lista[2].append()"
      ],
      "metadata": {
        "id": "L9hN7y4ejRiH"
      },
      "execution_count": null,
      "outputs": []
    },
    {
      "cell_type": "code",
      "source": [
        "frutas1[2] = 'FRUTA ERRADA'\n",
        "frutas1.append('Goiaba')\n",
        "frutas1.pop(0)"
      ],
      "metadata": {
        "id": "9J2M_-6sjTMB"
      },
      "execution_count": null,
      "outputs": []
    },
    {
      "cell_type": "code",
      "source": [
        "print(frutas1)"
      ],
      "metadata": {
        "id": "JiO-eqovjVEa"
      },
      "execution_count": null,
      "outputs": []
    },
    {
      "cell_type": "code",
      "source": [
        "print(frutas_bkp)"
      ],
      "metadata": {
        "id": "5xjBApZxjWsA"
      },
      "execution_count": null,
      "outputs": []
    },
    {
      "cell_type": "code",
      "source": [
        "#COMO ADICIONAR E ALTERAR ELEMENTOS EM UMA LISTA\n",
        "frutas = ['Banana', 'Abacate']\n",
        "\n",
        "frutas[1] = 'Amora'\n",
        "\n",
        "frutas\n",
        "\n",
        "#frutas[2] = 'Maçã' - Não funciona, pois não existe ainda na lista o índice 2\n",
        "\n",
        "#print(frutas)\n",
        "\n",
        "#ADICIONANDO UMA NOVA FRUTA AO FINAL - função append()\n",
        "frutas.append('Uva')\n",
        "\n",
        "frutas\n",
        "\n",
        "#ADICIONANDO UMA NOVA FRUTA NO INÍCIO OU EM QUALQUER ÍNDICE DA LISTA - insert()\n",
        "frutas.insert(0, 'Jaca')\n",
        "\n",
        "frutas\n",
        "\n",
        "#ADICIONANDO UMA LISTA COMPLEMENTANDO A OUTRA - EXTEND\n",
        "frutas1 = ['Banana', 'Abacate']\n",
        "frutas2 = ['Uva', 'Jaca']\n",
        "\n",
        "frutas1.extend(frutas2)\n",
        "\n",
        "#REMOVER UM ELEMENTO DE UMA LISTA - POP() - Remove pelo índice\n",
        "frutas1.pop(3)\n",
        "\n",
        "frutas1\n",
        "#REMOVER UM ELEMENTO DE UMA LISTA - del - Remove pelo índice\n",
        "del frutas1[0:9]\n",
        "\n",
        "#REMOVER UMA LISTA INTEIRA\n",
        "del frutas1\n",
        "\n",
        "#REMOVER UM ELEMENTO DE UMA LISTA - remove() - Remove pelo conteúdo\n",
        "frutas1.remove('Abacate')\n",
        "\n",
        "frutas1\n",
        "#ZERAR A LISTA, DEIXÁ-LA EM BRANCO\n",
        "frutas1.clear()"
      ],
      "metadata": {
        "id": "F0biLXMUjYvP"
      },
      "execution_count": null,
      "outputs": []
    },
    {
      "cell_type": "code",
      "source": [
        "#PERCORRER OS ELEMENTOS DE UMA LISTA"
      ],
      "metadata": {
        "id": "r16Yax50jY3L"
      },
      "execution_count": null,
      "outputs": []
    },
    {
      "cell_type": "code",
      "source": [
        "# remover um elemento de uma lista - pop() - remove pelo indice\n",
        "#frutas1.pop(3)\n",
        "\n",
        "frutas1\n",
        "\n",
        "#remover um elemento de uma lista - del - remove pelo indice\n",
        "del frutas1[3]\n",
        "\n",
        "# remover uma lista inteira\n",
        "# del frutas1\n",
        "\n",
        "# remover um elemento de uma lista - remove() - remove pelo conteúdo\n",
        "frutas1.remove('Abacate')\n",
        "frutas1\n",
        "\n",
        "# Zerar a lista, deixa-la em branco\n",
        "frutas1.clear()"
      ],
      "metadata": {
        "id": "xTkoaXnMfsfS"
      },
      "execution_count": null,
      "outputs": []
    },
    {
      "cell_type": "code",
      "source": [
        "#PERCORRER OS ELEMENTOS DE UMA LISTA\n",
        "frutas1 = ['Banana', 'Abacate', 'Uva', 'Jaca']\n",
        "\n",
        "#primeira forma\n",
        "for x in frutas1:\n",
        "  print(x, end=' ')\n",
        "\n",
        "print(len(frutas1))\n"
      ],
      "metadata": {
        "id": "2F_syjzpjgXp"
      },
      "execution_count": null,
      "outputs": []
    },
    {
      "cell_type": "code",
      "source": [
        "#segunda forma\n",
        "for i in range(len(frutas1)):\n",
        "   print(frutas1[i])"
      ],
      "metadata": {
        "id": "24lNuh1rml5I"
      },
      "execution_count": null,
      "outputs": []
    },
    {
      "cell_type": "code",
      "source": [
        "# terceira forma\n",
        "i = 0\n",
        "while i < len(frutas1):\n",
        "  print(frutas1[i])\n",
        "  i += 1"
      ],
      "metadata": {
        "id": "yUcXf4zomoin"
      },
      "execution_count": null,
      "outputs": []
    },
    {
      "cell_type": "code",
      "source": [
        "frutas_bkp = frutas1.copy()"
      ],
      "metadata": {
        "id": "yBAlmqXTrLi-"
      },
      "execution_count": null,
      "outputs": []
    },
    {
      "cell_type": "code",
      "source": [
        "# Sort() - Método para ordenação A-Z , 1 - 10, 10 -1, Z - A\n",
        "\n",
        "frutas1.sort()\n",
        "\n",
        "frutas1"
      ],
      "metadata": {
        "id": "AEJubha-rMJ6"
      },
      "execution_count": null,
      "outputs": []
    },
    {
      "cell_type": "code",
      "source": [
        "#ORDENAÇÃO DECRESCENTE\n",
        "frutas1.sort(reverse=True)\n",
        "\n",
        "frutas1\n",
        "\n",
        "#OU\n"
      ],
      "metadata": {
        "id": "EAeGvhterOEi"
      },
      "execution_count": null,
      "outputs": []
    },
    {
      "cell_type": "code",
      "source": [
        "#ORDEM REVERSA - Mostrar a lista do final pro começo\n",
        "\n",
        "frutas1.reverse()\n",
        "\n",
        "print(frutas1)"
      ],
      "metadata": {
        "id": "lpaoFuKjrSay"
      },
      "execution_count": null,
      "outputs": []
    },
    {
      "cell_type": "code",
      "source": [
        "# Crie um algoritmo que leia uma lista contendo 6 números inteiros e positivos e ao final crie uma segunda lista contendo o dobro\n",
        "# dos números da primeira lista. Ao final, percorra a lista2 e apresente os valores na tela\n",
        "'''\n",
        "   lista 1 = 2    7     25      3      0 \n",
        "   lista 2 = 4    14    50      6      0\n",
        "'''\n",
        "lista1 = []\n",
        "lista2 = []\n",
        "\n",
        "for i in range(6):\n",
        "  lista1.append(int(input(f'Digite o {i+1}º número: ')))\n",
        "\n",
        "for x in lista1:\n",
        "  lista2.append(x * 2)\n",
        "\n",
        "for j in lista2:\n",
        "  print(j, end=' ')"
      ],
      "metadata": {
        "id": "KQoDoQwNyXLr"
      },
      "execution_count": null,
      "outputs": []
    },
    {
      "cell_type": "code",
      "source": [
        "# Leia a lista\n",
        "# depois com a lista preenchida\n",
        "# Faça o codigo"
      ],
      "metadata": {
        "id": "piC92KpJr1To"
      },
      "execution_count": null,
      "outputs": []
    }
  ]
}