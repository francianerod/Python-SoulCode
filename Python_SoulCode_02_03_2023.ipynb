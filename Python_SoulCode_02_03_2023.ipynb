{
  "nbformat": 4,
  "nbformat_minor": 0,
  "metadata": {
    "colab": {
      "provenance": [],
      "collapsed_sections": [
        "4m3EPQETuR5X",
        "RM6BBrmSuYbR"
      ],
      "authorship_tag": "ABX9TyPdFBwDnW1X4dq8NGdu2LjC",
      "include_colab_link": true
    },
    "kernelspec": {
      "name": "python3",
      "display_name": "Python 3"
    },
    "language_info": {
      "name": "python"
    }
  },
  "cells": [
    {
      "cell_type": "markdown",
      "metadata": {
        "id": "view-in-github",
        "colab_type": "text"
      },
      "source": [
        "<a href=\"https://colab.research.google.com/github/francianerod/Python-SoulCode/blob/main/Python_SoulCode_02_03_2023.ipynb\" target=\"_parent\"><img src=\"https://colab.research.google.com/assets/colab-badge.svg\" alt=\"Open In Colab\"/></a>"
      ]
    },
    {
      "cell_type": "markdown",
      "source": [
        "**Escola**: SoulCode Academy\n",
        "\n",
        "**Curso:** Bootcamp Analista de Dados - Martech - AD1\n",
        "\n",
        "**Data:** 02 de março de 2023\n",
        "\n",
        "**Professor:** Bismark William\n",
        "\n",
        "**Aluna:** Franciane Rodrigues"
      ],
      "metadata": {
        "id": "ovm0AqKOuDUS"
      }
    },
    {
      "cell_type": "markdown",
      "source": [
        "### **Atividades: Listas**"
      ],
      "metadata": {
        "id": "4m3EPQETuR5X"
      }
    },
    {
      "cell_type": "markdown",
      "source": [
        "1) Faça um Programa que leia uma lista de 5 números inteiros e mostre-os.\n",
        "\n",
        "2) Faça um Programa que leia uma lista de 10 números reais e mostre-os na ordem inversa.\n",
        "\n",
        "3) Faça um Programa que leia 4 notas de aluno e armazene-as dentro de uma lista. Em seguida mostre as notas e a média das notas na tela.\n",
        "\n",
        "4) Faça um Programa que leia 20 números inteiros e armazene-os numa lista. Em seguida, crie mais 2 listas, uma para armazenar os números pares e outra para armazenar os números impares. Ao final, Imprima as três listas.\n",
        "\n",
        "5) Faça um Programa que peça as quatro notas de 10 alunos junto com o seu nome. Calcule e armazene numa lista a média de cada aluno, bem como em outra lista armazene o nome do aluno. Ao final imprima o número de alunos com média maior ou igual a 7.0 junto com o seu nome e a média.\n",
        "\n",
        "6) Faça um Programa que leia uma lista de 5 números inteiros. Após, percorra a lista e calcule a soma e a multiplicação dos números. Ao final, mostre os números lidos, a soma dos números e a multiplicação entre eles.\n",
        "\n",
        "7) Faça um Programa que leia uma lista A com 10 números inteiros, calcule e mostre a soma dos quadrados dos elementos da lista.\n",
        "\n",
        "8) Faça um programa que leia o nome, a idade e a altura de 10 alunos da SoulCode. Em seguida determine quantos alunos com mais de 13 anos possuem altura inferior à média de altura desses alunos.\n",
        "\n",
        "9) Escreva um algoritmo em python que leia um número N positivo e preencha uma lista com os N primeiros números da sequência de Fibonacci"
      ],
      "metadata": {
        "id": "4TIVYkk7uehV"
      }
    },
    {
      "cell_type": "code",
      "source": [
        "# 1) Faça um Programa que leia uma lista de 5 números inteiros e mostre-os.\n",
        "# Leia = receber os dados do usuário através do input\n",
        "# append no final e insert inserir com localização\n",
        "\n",
        "numeros = []\n",
        "\n",
        "for i in range(5):\n",
        "  numeros.append(int(input('Digite um número: ')))\n",
        "\n",
        "for c in numeros:\n",
        "  print(c)"
      ],
      "metadata": {
        "id": "JvTegLgvGkwb"
      },
      "execution_count": null,
      "outputs": []
    },
    {
      "cell_type": "code",
      "source": [
        "# 2) Faça um Programa que leia uma lista de 10 números reais e mostre-os na ordem inversa.\n",
        "# sugestão: não coloque a função dentro do print\n",
        "\n",
        "numeros = []\n",
        "\n",
        "for i in range(10):\n",
        "  n = float(input('Digite um número: '))\n",
        "  numeros.append(n)\n",
        "\n",
        "print(numeros)\n",
        "numeros.reverse()\n",
        "print(numeros)\n",
        "\n",
        "#Observações do professor\n",
        "#numero[inicio:fim:passo]\n",
        "#numero[::-1]\n",
        "#numero[0::2]\n",
        "#numero[0:5:1]"
      ],
      "metadata": {
        "id": "wajMkSThHQBp"
      },
      "execution_count": null,
      "outputs": []
    },
    {
      "cell_type": "code",
      "source": [
        "# 3) Faça um Programa que leia 4 notas de aluno e armazene-as dentro de uma lista. \n",
        "# Em seguida mostre as notas e a média das notas na tela.\n",
        "\n",
        "notas = []\n",
        "soma = 0\n",
        "\n",
        "for i in range(4):\n",
        "  nota = float(input(f'Digite a {i+1}ª nota: '))\n",
        "  while nota < 0 or nota > 10:\n",
        "    nota = float(input(f'Digite a {i+1}ª nota: '))\n",
        "  \n",
        "  notas.append(nota)\n",
        "\n",
        "for i in notas:\n",
        "  soma += i\n",
        "\n",
        "media = soma / len(notas)\n",
        "\n",
        "print(notas)\n",
        "print(f'A media das notas digitadas foi {media:.2f}')"
      ],
      "metadata": {
        "id": "5jrnnBzjKiAy"
      },
      "execution_count": null,
      "outputs": []
    },
    {
      "cell_type": "code",
      "source": [
        "# 4) Faça um Programa que leia 20 números inteiros e armazene-os numa lista. \n",
        "# Em seguida, crie mais 2 listas, uma para armazenar os números pares e outra para armazenar os números impares. \n",
        "# Ao final, Imprima as três listas.\n",
        "\n",
        "'''\n",
        "lista1 = [10, 8, 3, 19, 26, 13, 99, 118]\n",
        "\n",
        "lista_par = [10, 8, 26, 118]\n",
        "lista_impar = [3, 19, 13, 99]\n",
        "'''\n",
        "\n",
        "lista1 = []\n",
        "\n",
        "for i in range(6):\n",
        "  lista1.append(int(input(f'Digite o {i+1}º número: ')))\n",
        "\n",
        "print('Lista1 = ',lista1)\n",
        "\n",
        "lista_par = []\n",
        "lista_impar = []\n",
        "\n",
        "for i in lista1:\n",
        "  if i % 2 == 0:\n",
        "    lista_par.append(i)\n",
        "  else:\n",
        "    lista_impar.append(i)\n",
        "\n",
        "print('Lista de Pares = ',lista_par)\n",
        "print('Lista de ímpares = ',lista_impar)"
      ],
      "metadata": {
        "id": "ARLA5iAtP80v"
      },
      "execution_count": null,
      "outputs": []
    },
    {
      "cell_type": "code",
      "source": [
        "# 5) Faça um Programa que peça as quatro notas de 10 alunos junto com o seu nome. \n",
        "# Calcule e armazene numa lista a média de cada aluno, bem como em outra lista armazene o nome do aluno. \n",
        "# Ao final imprima o número de alunos com média maior ou igual a 7.0 junto com o seu nome e a média.\n",
        "\n",
        "nome_alunos = []\n",
        "notas_alunos = []\n",
        "media_alunos = []\n",
        "quantidade_alunos_acima_media = 0\n",
        "\n",
        "for i in range(3): #for dos alunos\n",
        "  soma_notas = 0\n",
        "  nome_alunos.append(input(f'Digite o nome do {i+1}º aluno: '))\n",
        "  notas = []\n",
        "  for j in range(4): #for das notas\n",
        "    nota = float(input(f'Digite a {j+1}ª nota do {i+1}º aluno: '))\n",
        "    while nota < 0 or nota > 10:\n",
        "      nota = float(input(f'Digite a {j+1}ª nota do {i+1}º aluno: '))\n",
        "\n",
        "    notas.append(nota)\n",
        "    soma_notas += nota\n",
        "  \n",
        "  notas_alunos.append(notas)\n",
        "  media = soma_notas / 4\n",
        "  media_alunos.append(media)\n",
        "\n",
        "print(nome_alunos)\n",
        "print(notas_alunos)\n",
        "print(media_alunos)\n",
        "\n",
        "for i in range(len(media_alunos)):\n",
        "  if media_alunos[i] >= 7:\n",
        "    print('Nome do Aluno: ', nome_alunos[i])\n",
        "    print('Média do Aluno: ', media_alunos[i])\n",
        "    quantidade_alunos_acima_media += 1\n",
        "\n",
        "print(f'A quantidade de alunos acima da média 7 é igual a {quantidade_alunos_acima_media}')"
      ],
      "metadata": {
        "id": "5lsg7ck2QjiH"
      },
      "execution_count": null,
      "outputs": []
    },
    {
      "cell_type": "code",
      "source": [
        "# 6) Faça um Programa que leia uma lista de 5 números inteiros. Após, percorra a lista e calcule a soma e a multiplicação dos números. \n",
        "# Ao final, mostre os números lidos, a soma dos números e a multiplicação entre eles.\n",
        "\n",
        "numeros = [2, 2, 2, 2, 2]\n",
        "soma = 0\n",
        "mult = 1\n",
        "div = numeros\n",
        "\n",
        "for i in range(5):\n",
        "  numeros.append(int(input(f'Digite o {i+1}º número: ')))\n",
        "\n",
        "for valor in numeros:\n",
        "  soma += valor\n",
        "  mult *= valor\n",
        "\n",
        "print(f'A soma dos números da lista de números é {soma}')\n",
        "print(f'A multiplicação dos números da lista de números e {mult}')"
      ],
      "metadata": {
        "id": "BfDziNcjVo9w"
      },
      "execution_count": null,
      "outputs": []
    },
    {
      "cell_type": "code",
      "source": [
        "# 7) Faça um Programa que leia uma lista A com 10 números inteiros, calcule e mostre a soma dos quadrados dos elementos da lista.\n",
        "\n",
        "numeros = []\n",
        "soma_quadrados = 0\n",
        "\n",
        "for i in range(4):\n",
        "  numeros.append(int(input(f'Digite o {i+1}º número: ')))\n",
        "\n",
        "for valor in numeros:\n",
        "  soma_quadrados += (valor ** 2)\n",
        "\n",
        "print(f'A soma dos quadrados dos números da lista é {soma_quadrados}')"
      ],
      "metadata": {
        "id": "_brf3ERIVura"
      },
      "execution_count": null,
      "outputs": []
    },
    {
      "cell_type": "code",
      "source": [
        "# 8) Faça um programa que leia o nome, a idade e a altura de 10 alunos da SoulCode. \n",
        "# Em seguida determine quantos alunos com mais de 13 anos possuem altura inferior à média de altura desses alunos.\n",
        "\n",
        "nome_alunos = []\n",
        "idade_alunos = []\n",
        "altura_alunos = []\n",
        "soma_alturas = 0\n",
        "qtd_alunos = 0\n",
        "\n",
        "for i in range(4):\n",
        "  nome_alunos.append(input(f'Digite o nome do {i+1}º aluno: '))\n",
        "  idade = int(input(f'Digite a idade do {i+1}º aluno: '))\n",
        "  while idade < 0 or idade > 150:\n",
        "    idade = int(input(f'Digite a idade do {i+1}º aluno: '))\n",
        "\n",
        "  idade_alunos.append(idade)\n",
        "\n",
        "  altura = float(input(f'Digite a altur ado {i+1}º aluno: '))\n",
        "  while altura < 0.5 or altura > 3:\n",
        "    altura = float(input(f'Digite a altur ado {i+1}º aluno: '))\n",
        "  \n",
        "  altura_alunos.append(altura)\n",
        "\n",
        "for valor in altura_alunos:\n",
        "  soma_alturas += valor\n",
        "\n",
        "media_alturas = soma_alturas / len(altura_alunos)\n",
        "\n",
        "for i in range(4):\n",
        "  if idade_alunos[i] > 13 and altura_alunos[i] < media_alturas:\n",
        "    qtd_alunos += 1\n",
        "\n",
        "print(nome_alunos)\n",
        "print(idade_alunos)\n",
        "print(altura_alunos)\n",
        "print(f'A quantidade de alunos maiores que 13 anos e menores que a media {media_alturas} é {qtd_alunos}')\n"
      ],
      "metadata": {
        "id": "Iet3G9JLV0oT"
      },
      "execution_count": null,
      "outputs": []
    },
    {
      "cell_type": "code",
      "source": [
        "# 9) Escreva um algoritmo em python que leia um número N positivo e preencha uma lista com os N primeiros números da sequência de Fibonacci"
      ],
      "metadata": {
        "id": "-uATTWs5V-mu"
      },
      "execution_count": null,
      "outputs": []
    },
    {
      "cell_type": "markdown",
      "source": [
        "### **Tuplas**"
      ],
      "metadata": {
        "id": "RM6BBrmSuYbR"
      }
    },
    {
      "cell_type": "code",
      "source": [
        "lista_vogais = list(vogais)\n",
        "\n",
        "type(lista_vogais)\n",
        "print(lista_vogais)\n",
        "\n",
        "lista_vogais.append('j')\n",
        "\n",
        "vogais = tuple(lista_vogais)\n",
        "\n",
        "print(vogais)"
      ],
      "metadata": {
        "colab": {
          "base_uri": "https://localhost:8080/"
        },
        "id": "XZCfnKIwyDIx",
        "outputId": "a6b51b77-ff7a-429a-e314-38586a70457b"
      },
      "execution_count": null,
      "outputs": [
        {
          "output_type": "stream",
          "name": "stdout",
          "text": [
            "['a', 'e', 'i', 'o', 'u', 'j']\n",
            "('a', 'e', 'i', 'o', 'u', 'j', 'j')\n"
          ]
        }
      ]
    },
    {
      "cell_type": "code",
      "source": [
        "len(vogais)"
      ],
      "metadata": {
        "colab": {
          "base_uri": "https://localhost:8080/"
        },
        "id": "Dg3JECbIzpyL",
        "outputId": "231fc4cb-8a05-4abc-df6c-9ddd60390285"
      },
      "execution_count": null,
      "outputs": [
        {
          "output_type": "execute_result",
          "data": {
            "text/plain": [
              "7"
            ]
          },
          "metadata": {},
          "execution_count": 25
        }
      ]
    },
    {
      "cell_type": "code",
      "source": [
        "vogais.count('j')"
      ],
      "metadata": {
        "colab": {
          "base_uri": "https://localhost:8080/"
        },
        "id": "DAep8IgJzyIN",
        "outputId": "a5718dbc-a7f6-45fd-a335-f0fc2c979871"
      },
      "execution_count": null,
      "outputs": [
        {
          "output_type": "execute_result",
          "data": {
            "text/plain": [
              "2"
            ]
          },
          "metadata": {},
          "execution_count": 26
        }
      ]
    },
    {
      "cell_type": "markdown",
      "source": [
        "### **Dicionários**"
      ],
      "metadata": {
        "id": "8aiCldA0z-vH"
      }
    },
    {
      "cell_type": "code",
      "source": [
        "'''\n",
        "indice -> valor\n",
        "chave : valor qualquer\n",
        "'str' : 'valor qualquer'\n",
        "'nome':'Joaquim da Silva\n",
        "'telefone' : '(11)00000-0000'\n",
        "'cpf' : '333.333.333-33\n",
        "\n",
        "'''"
      ],
      "metadata": {
        "id": "fioQp3p70Brf"
      },
      "execution_count": null,
      "outputs": []
    },
    {
      "cell_type": "code",
      "source": [
        "# Declarar um dicionário\n",
        "\n",
        "dicionario = {}\n",
        "\n",
        "pessoa = {'nome': 'Joaquim da Silva',\n",
        "          'telefone': '(11)33333-3333',\n",
        "          'cpf': '000.000.000-00'\n",
        "          }\n",
        "\n",
        "# Coloca o nome da chave\n",
        "pessoa['nome']"
      ],
      "metadata": {
        "colab": {
          "base_uri": "https://localhost:8080/",
          "height": 36
        },
        "id": "TtGCeoGL24O4",
        "outputId": "e0aa3fde-8be4-4282-8b59-e735d79e6741"
      },
      "execution_count": null,
      "outputs": [
        {
          "output_type": "execute_result",
          "data": {
            "text/plain": [
              "'Joaquim da Silva'"
            ],
            "application/vnd.google.colaboratory.intrinsic+json": {
              "type": "string"
            }
          },
          "metadata": {},
          "execution_count": 27
        }
      ]
    },
    {
      "cell_type": "code",
      "source": [
        "telefones = ['(11)9.0000-0000', '(21)9.0000-0000', '(31)9.0000-0000']\n",
        "\n",
        "telefones = {'sp': '(11)9.0000-0000', 'rj':'(21)9.0000-0000', 'mg': '(31)9.0000-0000' }\n",
        "\n",
        "# Informação pela chave\n",
        "print(telefones['rj'])"
      ],
      "metadata": {
        "colab": {
          "base_uri": "https://localhost:8080/"
        },
        "id": "qN0DdGxa3Za-",
        "outputId": "e49d4555-0cc6-4e08-8d38-2a1432a350ae"
      },
      "execution_count": null,
      "outputs": [
        {
          "output_type": "stream",
          "name": "stdout",
          "text": [
            "(21)9.0000-0000\n"
          ]
        }
      ]
    },
    {
      "cell_type": "code",
      "source": [
        "telefones = ['(11)9.0000-0000', '(21)9.0000-0000', '(31)9.0000-0000']\n",
        "\n",
        "telefones = {'sp':['(11)9.0000-0000', '(11)9.0000-0001','(11)9.0000-0002'],\n",
        "             'rj':'(21)9.0000-0000', \n",
        "             'mg': '(31)9.0000-0000' }\n",
        "\n",
        "# Informação pela chave\n",
        "print(telefones['sp'])"
      ],
      "metadata": {
        "colab": {
          "base_uri": "https://localhost:8080/"
        },
        "id": "GKZj6U2q6k8Q",
        "outputId": "f5d01545-dad3-4363-b32f-e4c73580b8c8"
      },
      "execution_count": null,
      "outputs": [
        {
          "output_type": "stream",
          "name": "stdout",
          "text": [
            "['(11)9.0000-0000', '(11)9.0000-0001', '(11)9.0000-0002']\n"
          ]
        }
      ]
    },
    {
      "cell_type": "code",
      "source": [
        "telefones = ['(11)9.0000-0000', '(21)9.0000-0000', '(31)9.0000-0000']\n",
        "\n",
        "telefones = {'sp':['(11)9.0000-0000', '(11)9.0000-0001','(11)9.0000-0002'],\n",
        "             'rj':'(21)9.0000-0000', \n",
        "             'mg': '(31)9.0000-0000' }\n",
        "\n",
        "# Informação pela chave\n",
        "print(telefones['sp'])\n",
        "type(telefones['sp'])\n",
        "\n",
        "for valor in telefones['sp']:\n",
        "  print(valor)"
      ],
      "metadata": {
        "colab": {
          "base_uri": "https://localhost:8080/"
        },
        "id": "9bkQ5o_J64xO",
        "outputId": "f5ac821d-fa16-42cf-e20a-a0e3337d387f"
      },
      "execution_count": null,
      "outputs": [
        {
          "output_type": "stream",
          "name": "stdout",
          "text": [
            "['(11)9.0000-0000', '(11)9.0000-0001', '(11)9.0000-0002']\n",
            "(11)9.0000-0000\n",
            "(11)9.0000-0001\n",
            "(11)9.0000-0002\n"
          ]
        }
      ]
    },
    {
      "cell_type": "code",
      "source": [
        "# Criar um dicionário contendo nome, modelo e marca de um carro\n",
        "# como ficaria para colocar 4 carros\n",
        "\n",
        "carros = {'nome': 'Gol', 'modelo': 'G4', 'marca':'volkswagen'}\n",
        "\n",
        "print(carros)\n",
        "\n",
        "print(carros['nome'])\n",
        "print(carros['modelo'])\n",
        "print(carros['marca'])"
      ],
      "metadata": {
        "colab": {
          "base_uri": "https://localhost:8080/"
        },
        "id": "gQ7_osAe-oe9",
        "outputId": "5eaab581-372a-4666-8bc8-ab4ab636c17b"
      },
      "execution_count": null,
      "outputs": [
        {
          "output_type": "stream",
          "name": "stdout",
          "text": [
            "{'nome': 'Gol', 'modelo': 'G4', 'marca': 'volkswagen'}\n",
            "Gol\n",
            "G4\n",
            "volkswagen\n"
          ]
        }
      ]
    },
    {
      "cell_type": "code",
      "source": [
        "#Criando uma lista de carros\n",
        "\n",
        "lista_carros = [\n",
        "    {'nome': 'Gol', 'modelo': 'G4', 'marca': 'volkswagen'},\n",
        "    {'nome': 'Hylux', 'modelo': 'SW4', 'marca': 'toyota'},\n",
        "    {'nome': 'Corolla', 'modelo': 'XEI', 'marca': 'toyota'},\n",
        "    {'nome': 'Uno', 'modelo': 'Mille', 'marca': 'fiat'}\n",
        "    ]\n",
        "\n",
        "for valor in lista_carros:\n",
        "  print('Nome:', valor['nome'])\n",
        "  print('Modelo:', valor['modelo'])\n",
        "  print('Marca:', valor['marca'])\n",
        "  "
      ],
      "metadata": {
        "colab": {
          "base_uri": "https://localhost:8080/"
        },
        "id": "7YbnC5ndA6Bg",
        "outputId": "2ed3e59e-ba14-4378-8f62-83c516412d60"
      },
      "execution_count": null,
      "outputs": [
        {
          "output_type": "stream",
          "name": "stdout",
          "text": [
            "Nome: Gol\n",
            "Modelo: G4\n",
            "Marca: volkswagen\n",
            "Nome: Hylux\n",
            "Modelo: SW4\n",
            "Marca: toyota\n",
            "Nome: Corolla\n",
            "Modelo: XEI\n",
            "Marca: toyota\n",
            "Nome: Uno\n",
            "Modelo: Mille\n",
            "Marca: fiat\n"
          ]
        }
      ]
    },
    {
      "cell_type": "code",
      "source": [
        "carro = {'nome': ['Chevette','Fusca','Lamborghini','Ferrari'],\n",
        "         'modelo':['celta','uno','hb20','toyota'],\n",
        "         'marca':['chevrolet', 'fiat', 'hinday', 'toyota']   \n",
        "}\n",
        "print(carro['nome'])\n",
        "\n",
        "carro['nome'][1]\n",
        "\n",
        "for i in range(3):\n",
        "  print(carro['nome'][i])"
      ],
      "metadata": {
        "colab": {
          "base_uri": "https://localhost:8080/"
        },
        "id": "M4EL29EHEYu9",
        "outputId": "d461e6fa-ae6c-4868-929d-46756287cac8"
      },
      "execution_count": null,
      "outputs": [
        {
          "output_type": "stream",
          "name": "stdout",
          "text": [
            "['Chevette', 'Fusca', 'Lamborghini', 'Ferrari']\n",
            "Chevette\n",
            "Fusca\n",
            "Lamborghini\n"
          ]
        }
      ]
    },
    {
      "cell_type": "code",
      "source": [
        "# Uma família possui 3 filhos, cada um dos filhos deve ser chamado da seguinte maneira:\n",
        "# filho1, filho2, filho3\n",
        "# Para cada um devem ter anotados dados sobre o nome, idade, o ano da escola e os cursos que fizeram\n",
        "\n",
        "\n",
        "lista_filhos = {\n",
        "    'filho1' : {\n",
        "        'nome' : 'Patrick Silva',\n",
        "        'idade': 15,\n",
        "        'ano_escola' : 1,\n",
        "        'cursos' : ['Python', 'Banco de Dados', 'Análise de Dados com Python']\n",
        "    },\n",
        "\n",
        "    'filho2' : {\n",
        "        'nome' : 'Melissa da Silva',\n",
        "        'idade': 16,\n",
        "        'ano_escola' : 2,\n",
        "        'cursos' : ['Java Fullstack', 'Banco de Dados NoSQL']\n",
        "    },\n",
        "\n",
        "   'filho3' : {\n",
        "        'nome' : 'Juscelino da Silva',\n",
        "        'idade': 17,\n",
        "        'ano_escola' : 3,\n",
        "        'cursos' : ['Ingles','Análise de Dados com Python']\n",
        "    }\n",
        "}"
      ],
      "metadata": {
        "id": "MX5VuTaWDIxd"
      },
      "execution_count": null,
      "outputs": []
    },
    {
      "cell_type": "code",
      "source": [
        "print(lista_filhos['filho1'])\n",
        "\n",
        "print(lista_filhos['filho1']['cursos'])\n",
        "\n",
        "print(lista_filhos['filho1']['cursos'][1])"
      ],
      "metadata": {
        "colab": {
          "base_uri": "https://localhost:8080/"
        },
        "id": "GgPeKwvlF6RR",
        "outputId": "adea12a3-ad2a-4857-ab3d-6ef48764de8c"
      },
      "execution_count": null,
      "outputs": [
        {
          "output_type": "stream",
          "name": "stdout",
          "text": [
            "{'nome': 'Patrick Silva', 'idade': 15, 'ano_escola': 1, 'cursos': ['Python', 'Banco de Dados', 'Análise de Dados com Python']}\n",
            "['Python', 'Banco de Dados', 'Análise de Dados com Python']\n",
            "Banco de Dados\n"
          ]
        }
      ]
    },
    {
      "cell_type": "code",
      "source": [
        "print(lista_filhos['filho2'])\n",
        "\n",
        "# print(lista_filhos['filho1']['cursos'])\n",
        "\n",
        "# print(lista_filhos['filho1']['cursos'][1])"
      ],
      "metadata": {
        "colab": {
          "base_uri": "https://localhost:8080/"
        },
        "id": "Qzb-MoNdGbwy",
        "outputId": "c36d5682-3349-4f57-e0a8-bf5b88c7acf5"
      },
      "execution_count": null,
      "outputs": [
        {
          "output_type": "stream",
          "name": "stdout",
          "text": [
            "{'nome': 'Melissa da Silva', 'idade': 16, 'ano_escola': 2, 'cursos': ['Java Fullstack', 'Banco de Dados NoSQL']}\n"
          ]
        }
      ]
    }
  ]
}