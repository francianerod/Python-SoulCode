{
  "nbformat": 4,
  "nbformat_minor": 0,
  "metadata": {
    "colab": {
      "provenance": [],
      "collapsed_sections": [
        "r5PioxXmjwjs"
      ],
      "authorship_tag": "ABX9TyPstC7noZVvcPIoivRiJw1b",
      "include_colab_link": true
    },
    "kernelspec": {
      "name": "python3",
      "display_name": "Python 3"
    },
    "language_info": {
      "name": "python"
    }
  },
  "cells": [
    {
      "cell_type": "markdown",
      "metadata": {
        "id": "view-in-github",
        "colab_type": "text"
      },
      "source": [
        "<a href=\"https://colab.research.google.com/github/francianerod/Python-SoulCode/blob/main/Python_SoulCode_03_03_2023.ipynb\" target=\"_parent\"><img src=\"https://colab.research.google.com/assets/colab-badge.svg\" alt=\"Open In Colab\"/></a>"
      ]
    },
    {
      "cell_type": "markdown",
      "source": [
        "**Escola**: SoulCode Academy\n",
        "\n",
        "**Curso:** Bootcamp Analista de Dados - Martech - AD1\n",
        "\n",
        "**Data:** 03 de março de 2023\n",
        "\n",
        "**Professor:** Bismark William\n",
        "\n",
        "**Aluna:** Franciane Rodrigues"
      ],
      "metadata": {
        "id": "2f6zhXppXody"
      }
    },
    {
      "cell_type": "markdown",
      "source": [
        "## **Continuação de dicionários**"
      ],
      "metadata": {
        "id": "r5PioxXmjwjs"
      }
    },
    {
      "cell_type": "code",
      "execution_count": null,
      "metadata": {
        "id": "767d0SzqXmhG"
      },
      "outputs": [],
      "source": [
        "#INSERIR UM NOVO CONJUNTO CHAVE:VALOR EM UM DICIONÁRIO EXISTENTE\n",
        "# cor: 'azul' , qtd_portas : 5\n",
        "\n",
        "carros = {'nome': 'Gol', 'modelo': 'G4', 'marca': 'volkswagen'}\n",
        "\n",
        "cor = 'azul'\n",
        "\n",
        "carros['cor'] = cor\n",
        "\n",
        "carros['qtd_portas'] = int(input('Digite a qtd de portas: '))\n",
        "\n",
        "print(carros)"
      ]
    },
    {
      "cell_type": "code",
      "source": [
        "carros['modelo'] = input('Digite o modelo do carro: ')\n",
        "\n",
        "print(carros)"
      ],
      "metadata": {
        "id": "j-qfzAGmevRu"
      },
      "execution_count": null,
      "outputs": []
    },
    {
      "cell_type": "code",
      "source": [
        "#2ª FORMA DE INSERÇÃO - update\n",
        "\n",
        "carros.update({'cor':'amarelo', 'qtd_portas':3, 'modelo':'G10'})\n",
        "\n",
        "print(carros)"
      ],
      "metadata": {
        "id": "2XezlKMLexyt"
      },
      "execution_count": null,
      "outputs": []
    },
    {
      "cell_type": "code",
      "source": [
        "#Criar um dicionário de carro - nome, modelo, fabricante, cor via input do usuário e depois mostre o dicionário na tela.\n",
        "\n",
        "# Forma 1\n",
        "# Criando um dicionário vazio\n",
        "carro = {}\n",
        "\n",
        "# Pedindo informações do usuário\n",
        "carro[\"nome\"] = input(\"Digite o nome do carro: \")\n",
        "carro[\"modelo\"] = input(\"Digite o modelo do carro: \")\n",
        "carro[\"fabricante\"] = input(\"Digite o fabricante do carro: \")\n",
        "carro[\"cor\"] = input(\"Digite a cor do carro: \")\n",
        "\n",
        "# Exibindo o dicionário na tela\n",
        "print(carro)"
      ],
      "metadata": {
        "id": "POPsYjT8e1zS"
      },
      "execution_count": null,
      "outputs": []
    },
    {
      "cell_type": "code",
      "source": [
        "carro = {}\n",
        "\n",
        "nome = input('Digite o nome do carro: ')\n",
        "modelo =  input('Digite o modelo do carro: ')\n",
        "fabricante = input('Digite o fabricante do carro: ')\n",
        "cor = input('Digite a cor do carro: ')\n",
        "\n",
        "carro.update({'nome': nome, 'modelo':modelo, 'fabricante':fabricante, 'cor':cor})\n",
        "\n",
        "print(carro['nome'])\n",
        "\n",
        "print(carro.get('nome'))"
      ],
      "metadata": {
        "id": "UtM6U69sgxfw"
      },
      "execution_count": null,
      "outputs": []
    },
    {
      "cell_type": "code",
      "source": [
        "#ALTERAR O DICIONÁRIO\n",
        "carro['nome'] = 'NovoNome'\n",
        "\n",
        "carro.update({'nome':'NovoNome'})"
      ],
      "metadata": {
        "id": "cNrD3gNPh6yT"
      },
      "execution_count": null,
      "outputs": []
    },
    {
      "cell_type": "code",
      "source": [
        "#REMOVER UM CONJUNTO CHAVE:VALOR DO DICIONÁRIO pop(), del, popitem() \n",
        "print(carro)\n",
        "\n",
        "carro.pop('cor')\n",
        "\n",
        "print(carro)"
      ],
      "metadata": {
        "id": "_aGU0KfvjBUk"
      },
      "execution_count": null,
      "outputs": []
    },
    {
      "cell_type": "code",
      "source": [
        "#REMOVE O ÚLTIMO CONJUNTO CHAVE:VALOR popitem()\n",
        "\n",
        "carro.popitem()\n",
        "\n",
        "print(carro)"
      ],
      "metadata": {
        "id": "rAZeebIfjE6L"
      },
      "execution_count": null,
      "outputs": []
    },
    {
      "cell_type": "code",
      "source": [
        "#apaga tudo e edeixa de existir na memoria\n",
        "del carro\n",
        "\n",
        "print(carro)"
      ],
      "metadata": {
        "id": "yEt8aAdJjG5Z"
      },
      "execution_count": null,
      "outputs": []
    },
    {
      "cell_type": "code",
      "source": [
        "carro.clear()\n",
        "\n",
        "print(carro)"
      ],
      "metadata": {
        "id": "FsvtvSNInB2R"
      },
      "execution_count": null,
      "outputs": []
    },
    {
      "cell_type": "code",
      "source": [
        "# Cópia de um dicionário (backup)\n",
        "\n",
        "# carro2 = carro , dessa forma estaria fazendo uma referência ao dicionário carro, toda alteração em carro seria também refletida em carro2\n",
        "\n",
        "#carro2 = carro.copy()\n",
        "\n",
        "carro2 = dict(carro)\n",
        "print(carro2)"
      ],
      "metadata": {
        "id": "jeUjlPAYn-fp"
      },
      "execution_count": null,
      "outputs": []
    },
    {
      "cell_type": "code",
      "source": [
        "carro['cor'] = 'azul'\n",
        "print(carro)\n",
        "print(carro2)"
      ],
      "metadata": {
        "id": "gQyGbyQCn_T_"
      },
      "execution_count": null,
      "outputs": []
    },
    {
      "cell_type": "code",
      "source": [
        "#PERCORRENDO O DICIONÁRIO\n",
        "\n",
        "for chave in carro:\n",
        "  print(f'{chave} = {carro[chave]}')"
      ],
      "metadata": {
        "id": "nZCo44lWrPvc"
      },
      "execution_count": null,
      "outputs": []
    },
    {
      "cell_type": "code",
      "source": [
        "#RETORNA UMA LISTA COM AS CHAVES DO DICIONÁRIO\n",
        "#print(carro.keys())\n",
        "\n",
        "for chave in carro.keys():\n",
        "  print(chave)"
      ],
      "metadata": {
        "id": "eh_VVt7Rtw62"
      },
      "execution_count": null,
      "outputs": []
    },
    {
      "cell_type": "code",
      "source": [
        "#RETORNA UMA LISTA COM OS VALORES DO DICIONÁRIO\n",
        "\n",
        "print(carro.values())\n",
        "\n",
        "for valor in carro.values():\n",
        "  print(valor)"
      ],
      "metadata": {
        "id": "Qx1dZx2UtzS9"
      },
      "execution_count": null,
      "outputs": []
    },
    {
      "cell_type": "code",
      "source": [
        "#RETORNA UMA LISTA COM TODAS AS CHAVES E VALORES DO DICIONÁRIO\n",
        "\n",
        "print(carro.items())\n",
        "\n",
        "for chave, valor in carro.items():\n",
        "  print(f'{chave} = {valor}')"
      ],
      "metadata": {
        "id": "Rwk_k5A2tz45"
      },
      "execution_count": null,
      "outputs": []
    },
    {
      "cell_type": "code",
      "source": [
        "#Criar o mesmo esquema anterior, só que para N carros - Digite s para sair ou qualquer tecla para continuar!\n",
        "\n",
        "carros = []\n",
        "\n",
        "while True:\n",
        "  carros.append({\n",
        "      'nome': input('Digite o nome do carro: '),\n",
        "      'modelo': input('Digite o modelo do carro: '),\n",
        "      'fabricante': input('Digite o fabricante do carro: '),\n",
        "      'cor': input('Digite a cor do carro: ')\n",
        "  })\n",
        "\n",
        "  controle = input('Digite s para sair ou qualquer tecla para continuar: ')\n",
        "  if controle.lower() == 's':\n",
        "    break\n",
        "\n",
        "print(carros)"
      ],
      "metadata": {
        "id": "em7l61q6t2R1"
      },
      "execution_count": null,
      "outputs": []
    },
    {
      "cell_type": "code",
      "source": [
        "coisas_carro = ['nome','modelo','marca']\n",
        "\n",
        "carros= []\n",
        "\n",
        "while True:\n",
        "  carro = {}\n",
        "  for contador in coisas_carro:\n",
        "    carro[contador] = (input(f'qual o {contador} do carro '))\n",
        "    \n",
        "  carros.append(carro.copy())  \n",
        "  escolha = (input('quer parar o programa? '))\n",
        "  if escolha == 'sim':\n",
        "    break\n",
        "    \n",
        "print(carros)"
      ],
      "metadata": {
        "id": "dRbVIHhAShfF"
      },
      "execution_count": null,
      "outputs": []
    },
    {
      "cell_type": "code",
      "source": [
        "varios_carros = []\n",
        "sair = \"\"\n",
        "\n",
        "while sair != \"s\":\n",
        "  carros2 = {}\n",
        "  nome_car = input(\"Digite o nome do carro \")\n",
        "  mod_car = input(\"Digite o modelo do carro \")\n",
        "  fab_car = input(\"Digite o fabricante do carro \")\n",
        "  cor_car = input(\"Digite a cor do carro \")\n",
        "  carros2.update({'Nome': nome_car, 'Modelo': mod_car, 'Fabricante': fab_car, 'Cor': cor_car})\n",
        "  varios_carros.append(carros2)\n",
        "  sair = input(\"Digite s para sair ou qualquer tecla para continuar! \")\n",
        "\n",
        "\n",
        "print(varios_carros)"
      ],
      "metadata": {
        "id": "6zNtnwgSSiU1"
      },
      "execution_count": null,
      "outputs": []
    },
    {
      "cell_type": "code",
      "source": [
        "#Criar o mesmo esquema anterior, só que para N carros - Digite s para sair ou qualquer tecla para continuar!\n",
        "# UTILIZANDO UM CÓDIGO DO TIPO STRING COMO CHAVE\n",
        "\n",
        "carros = {}\n",
        "\n",
        "while True:\n",
        "  codigo = input('Digite o código do veículo: ')\n",
        "  c = {}\n",
        "  c.update({'nome': input('Digite o nome do carro'), \n",
        "            'modelo': input('Digite o modelo do carro: '),\n",
        "            'fabricante':input('Digite o fabricante do carro: '),\n",
        "            'cor': input('Digite a cor do carro')}) \n",
        "  \n",
        "  carros.update({codigo:c})\n",
        "  \n",
        "  controle = input('Digite s para sair ou qualquer tecla para continuar: ')\n",
        "  if controle.lower() == 's':\n",
        "    break\n",
        "\n",
        "for chave, valor in carros.items():\n",
        "  print(f'{chave} = {valor}')"
      ],
      "metadata": {
        "id": "EjGl4ZUUSkmn"
      },
      "execution_count": null,
      "outputs": []
    },
    {
      "cell_type": "markdown",
      "source": [
        "## **Funções**"
      ],
      "metadata": {
        "id": "sV6bZpHZSxUp"
      }
    },
    {
      "cell_type": "code",
      "source": [
        "#O QUE É UMA FUNÇÃO? \n",
        "\n",
        "'''\n",
        "- empacotamento de código\n",
        "- algoritmo com uma função específica, pode ser reutilizada\n",
        "- regra que se aplica em um determinado conjunto\n",
        "'''\n",
        "\n",
        "'''Análise de Dados'''\n",
        "# Dados de uma faculdade\n",
        "# Criar um código em Python que faça uma média de notas de um aluno na Faculdade - Repetição\n",
        "# \n",
        "\n",
        "lista_notas = [10, 8, 7.9 , 8.5]\n",
        "soma = 0\n",
        "for valor in lista_notas:\n",
        "  soma += valor\n",
        "\n",
        "media = soma / len(lista_notas)\n",
        "\n",
        "print(f'A nota do Yuri foi {media}')\n",
        "\n",
        "lista_notas = [10, 8, 7.9 , 8.5]\n",
        "soma = 0\n",
        "for valor in lista_notas:\n",
        "  soma += valor\n",
        "\n",
        "media = soma / len(lista_notas)\n",
        "\n",
        "print(f'A nota do Fabiano foi {media}')\n",
        "\n",
        "lista_notas = [10, 8, 7.9 , 8.5]\n",
        "soma = 0\n",
        "for valor in lista_notas:\n",
        "  soma += valor\n",
        "\n",
        "media = soma / len(lista_notas)\n",
        "\n",
        "print(f'A nota do Maria Lina foi {media}')"
      ],
      "metadata": {
        "id": "fE2PKPQaSzZM"
      },
      "execution_count": null,
      "outputs": []
    },
    {
      "cell_type": "code",
      "source": [
        "#declarar uma função no python\n",
        "'''\n",
        "def calcula_media():\n",
        "  bloco_de_codigo\n",
        "'''\n",
        "\n",
        "def calcula_media():\n",
        "  lista_notas = [ 10, 8, 7.9, 8.5]\n",
        "  soma = 0\n",
        "  for valor in lista_notas:\n",
        "    soma += valor\n",
        "    media = soma / len(lista_notas)"
      ],
      "metadata": {
        "id": "YW6DoQx6Uqay"
      },
      "execution_count": null,
      "outputs": []
    },
    {
      "cell_type": "code",
      "source": [
        "# Função sem argumentos\n",
        "\n",
        "def soma():\n",
        "  a = int(input('Digite um número: '))\n",
        "  b = int(input('Digite outro número: '))\n",
        "  print(a + b)\n",
        "\n",
        "# chamando a função soma (acima)\n",
        "soma()\n",
        "print('Terminou a função')\n",
        "\n",
        "soma()\n",
        "print('Terminou novamente a função')"
      ],
      "metadata": {
        "id": "uuV0AmrSWoi4"
      },
      "execution_count": null,
      "outputs": []
    },
    {
      "cell_type": "code",
      "source": [
        "# Função sem argumentos\n",
        "\n",
        "def sub():\n",
        "  a = int(input('Digite um número: '))\n",
        "  b = int(input('Digite outro número: '))\n",
        "  print(a - b)\n",
        "\n",
        "print('OLá')\n",
        "input('Digita tal')"
      ],
      "metadata": {
        "id": "n4tLWeE_kjNf"
      },
      "execution_count": null,
      "outputs": []
    },
    {
      "cell_type": "code",
      "source": [
        "# Função com argumentos: esse é o mais comum\n",
        "\n",
        "def soma(valor1, valor2):\n",
        "  print(valor1 + valor2)\n",
        "\n",
        "n1 = 7\n",
        "n2 = 3\n",
        "\n",
        "soma(n1, n2)"
      ],
      "metadata": {
        "id": "10-2yua5XEpc"
      },
      "execution_count": null,
      "outputs": []
    },
    {
      "cell_type": "code",
      "source": [
        "#Função com Argumentos\n",
        "\n",
        "def soma(valor1, valor2):\n",
        "  print(valor1 + valor2)\n",
        "\n",
        "def sub(valor1, valor2):\n",
        "  print(valor1 - valor2)\n",
        "\n",
        "def mult(valor1, valor2):\n",
        "  print(valor1 * valor2)\n",
        "\n",
        "def div(valor1, valor2):\n",
        "  print(valor1 / valor2)"
      ],
      "metadata": {
        "id": "6lfGOe9ckrqh"
      },
      "execution_count": null,
      "outputs": []
    },
    {
      "cell_type": "code",
      "source": [
        "def soma(valor1, valor2):\n",
        "  print(valor1 - valor2)"
      ],
      "metadata": {
        "id": "vRUZLLzqku76"
      },
      "execution_count": null,
      "outputs": []
    },
    {
      "cell_type": "markdown",
      "source": [
        "## **Atividades 1**"
      ],
      "metadata": {
        "id": "ViJcD35pkzya"
      }
    },
    {
      "cell_type": "markdown",
      "source": [
        "1) Faça um programa, com uma função que necessite de três argumentos, e que forneça \n",
        "a multiplicação desses três argumentos.\n",
        "\n",
        "2) Faça um programa que tenha uma função que necessite de um argumento que receba um número inteiro\n",
        " e imprima na tela a lista de divisores desse número.\n",
        "\n",
        "3) Faça uma função que recebe, por parâmetro, a altura (alt) e o sexo de uma pessoa e retorna o seu peso ideal. Para homens, calcular o peso ideal usando a fórmula peso ideal = 72.7 x alt - 58 e, para mulheres, peso ideal = 62.1 x alt - 44.7."
      ],
      "metadata": {
        "id": "RDRlDSmckxhM"
      }
    },
    {
      "cell_type": "code",
      "source": [
        "# Exercício 1\n",
        "\n",
        "def multiplica(n1, n2, n3):\n",
        "  print(n1 * n2 * n3)\n",
        "\n",
        "a = int(input('Digite o primeiro número: '))\n",
        "b = int(input('Digite o segundo número: '))\n",
        "c = int(input('Digite o terceiro número: '))\n",
        "\n",
        "multiplica(a, b, c)"
      ],
      "metadata": {
        "id": "Y7SHrK5ykzIC"
      },
      "execution_count": null,
      "outputs": []
    },
    {
      "cell_type": "code",
      "source": [
        "# Exercicio 2\n",
        "\n",
        "def divisores(numero):\n",
        "  for i in range(1, numero + 1):\n",
        "    if numero % i == 0:\n",
        "      print(i)\n",
        "\n",
        "n = int(input('Digite um número: '))\n",
        "\n",
        "divisores(n)"
      ],
      "metadata": {
        "id": "oJQ8IGHcxCGY"
      },
      "execution_count": null,
      "outputs": []
    },
    {
      "cell_type": "code",
      "source": [
        "# Exercicio 3\n",
        "\n",
        "def peso_ideal(altura, sexo):\n",
        "  if sexo.upper() == 'M':\n",
        "    print(72.7 * altura - 58)\n",
        "  elif sexo.upper() == 'F':\n",
        "    print(62.1 * altura - 44.7)\n",
        "\n",
        "altura = float(input('Digite a sua altura: '))\n",
        "while altura < 0.5 or altura > 2.40:\n",
        "  altura = float(input('Digite a sua altura: '))\n",
        "\n",
        "sexo = input('Digite o sexo: M ou F')\n",
        "while sexo.lower() != 'm' and sexo.lower() != 'f':\n",
        "  sexo = input('Digite o sexo: M ou F')\n",
        "\n",
        "peso_ideal(altura, sexo)\n",
        "\n",
        "\n"
      ],
      "metadata": {
        "colab": {
          "base_uri": "https://localhost:8080/"
        },
        "id": "LjQN-cHoxIJl",
        "outputId": "6fc7a453-aa04-4fb3-cf3c-86c9ead1cf36"
      },
      "execution_count": null,
      "outputs": [
        {
          "output_type": "stream",
          "name": "stdout",
          "text": [
            "Digite a sua altura: 1.86\n",
            "Digite o sexo: M ou Fm\n",
            "77.22200000000001\n"
          ]
        }
      ]
    },
    {
      "cell_type": "code",
      "source": [
        "# Funções com retorno - return\n",
        "\n",
        "def soma(n1, n2):\n",
        "  return n1 + n2\n",
        "\n",
        "a = int(input('Digite um número: '))\n",
        "b = int(input('Digite outro número: '))\n",
        "\n",
        "soma(a,b)"
      ],
      "metadata": {
        "colab": {
          "base_uri": "https://localhost:8080/"
        },
        "id": "lsrDF5fZyfiy",
        "outputId": "cfe6408a-48c7-46f2-ab01-50261b9445e4"
      },
      "execution_count": null,
      "outputs": [
        {
          "name": "stdout",
          "output_type": "stream",
          "text": [
            "Digite um número: 10\n",
            "Digite outro número: 8\n"
          ]
        },
        {
          "output_type": "execute_result",
          "data": {
            "text/plain": [
              "18"
            ]
          },
          "metadata": {},
          "execution_count": 23
        }
      ]
    },
    {
      "cell_type": "code",
      "source": [
        "#Funções com retorno - return\n",
        "\n",
        "def soma(n1, n2):\n",
        "  return f' O valor da soma de {n1} + {n2} = {n1 + n2}'\n",
        "\n",
        "a = int(input('Digite o primeiro número: '))\n",
        "b = int(input('Digite o segundo número: '))\n",
        "\n",
        "s = soma(a, b)\n",
        "\n",
        "print(type(s))\n",
        "print(s)"
      ],
      "metadata": {
        "id": "bFzY2gvEzs2c"
      },
      "execution_count": null,
      "outputs": []
    },
    {
      "cell_type": "code",
      "source": [
        "def soma(*valores): #*args Recebe os valores no formato tupla\n",
        "  print(list(valores))"
      ],
      "metadata": {
        "id": "wScUAHpkCkhj"
      },
      "execution_count": null,
      "outputs": []
    },
    {
      "cell_type": "code",
      "source": [
        "soma()\n",
        "soma(1)\n",
        "soma(1, 2)\n",
        "soma(1, 2, 3, 4, 5)"
      ],
      "metadata": {
        "id": "M1q0R_D9CmM-"
      },
      "execution_count": null,
      "outputs": []
    },
    {
      "cell_type": "code",
      "source": [
        "#Parâmetros nomeados\n",
        "def soma(numero3, numero1, numero2):\n",
        "  print(numero3)\n",
        "  print(numero1)\n",
        "  print(numero2)\n",
        "  #print(numero3 + numero1 + numero2)"
      ],
      "metadata": {
        "id": "XUNV91JVCn69"
      },
      "execution_count": null,
      "outputs": []
    },
    {
      "cell_type": "code",
      "source": [
        "n1 = 10\n",
        "n2 = 3\n",
        "n3 = 17\n",
        "\n",
        "soma(n1, n2, numero1 = n3)"
      ],
      "metadata": {
        "id": "S1mNOygOCp5I"
      },
      "execution_count": null,
      "outputs": []
    },
    {
      "cell_type": "code",
      "source": [
        "#Parâmetros nomeados sem quantidade definida de argumentos **kwargs - Recebe os valores no formato dicionário\n",
        "def soma(**valores):\n",
        "  print(valores)"
      ],
      "metadata": {
        "id": "U9liIx3MCreD"
      },
      "execution_count": null,
      "outputs": []
    },
    {
      "cell_type": "code",
      "source": [
        "n1 = 10\n",
        "n2 = 3\n",
        "n3 = 17\n",
        "\n",
        "soma(numero1 = n1, numero2 = n2, numero3 = n3)"
      ],
      "metadata": {
        "id": "wVYOdNtUCt12"
      },
      "execution_count": null,
      "outputs": []
    },
    {
      "cell_type": "code",
      "source": [
        "#Colocar um valor padrão para um argumento\n",
        "def mostrar_na_tela(carro = 'Padrao'):\n",
        "  print(carro)"
      ],
      "metadata": {
        "id": "ViMDpxWaCvEt"
      },
      "execution_count": null,
      "outputs": []
    },
    {
      "cell_type": "code",
      "source": [
        "mostrar_na_tela('Gol')\n",
        "mostrar_na_tela('Uno')\n",
        "mostrar_na_tela('Corolla')\n",
        "mostrar_na_tela()"
      ],
      "metadata": {
        "id": "gziMmIT5CxdY"
      },
      "execution_count": null,
      "outputs": []
    },
    {
      "cell_type": "markdown",
      "source": [
        "### **Atividades 2**"
      ],
      "metadata": {
        "id": "kAgjb-iDGT1P"
      }
    },
    {
      "cell_type": "markdown",
      "source": [
        "'''\n",
        "1) Construa um algoritmo em Python que leia dois valores numéricos inteiros e\n",
        "efetue a adição dos mesmo através de uma função. Caso o resultado seja maior que 10, apresentá-lo a partir da própria função. \n",
        "\n",
        "2) Construa um algoritmo em Python que leia um número inteiro N e através de uma função, exiba na tela se o número lido\n",
        " é PAR ou ÍMPAR.\n",
        "\n",
        "3) Escreva um algoritmo em Python que leia um número inteiro qualquer. Em seguida, utilizando uma função, verifique\n",
        "se o mesmo é maior do que 20. Caso seja, retorne a mensagem 'Maior que 20' para uma variável e exiba a variável na tela.\n",
        "Caso não seja, retorne a mensagem 'Menor que 20' para a mesma variável e a exiba na tela.\n",
        "\n",
        "4) Escreva um algoritmo em Python que leia um número N\n",
        "e envie por argumentos para uma função. Dentro da função verifique se o número lido é POSITIVO, NEGATIVO ou NULO. Retorne\n",
        "essa informação para uma variável do programa principal. Em seguida, exiba essa variável na tela.\n",
        "\n",
        "5) Escreva um algoritmo em Python que receba um número N inteiro e positivo. Em seguida, envie o número\n",
        "por um argumento para uma função que verifique se o número lido “é múltiplo de 3” ou “não é múltiplo de 3”. Retorne essa\n",
        "mensagem para uma variável no programa principal e a exiba na tela.\n",
        "\n",
        "(6) Faça um programa que leia um número n e imprima a seguinte saída na tela: \n",
        "\n",
        "1\n",
        "2 2\n",
        "3 3 3\n",
        "4 4 4 4\n",
        "5 5 5 5 5\n",
        "n n n n n ...... n\n",
        "\n",
        "(7) Faça um programa que leia um número n e imprima a seguinte saída na tela: \n",
        "\n",
        "1\n",
        "1 2\n",
        "1 2 3\n",
        "1 2 3 4\n",
        "1 2 3 4 5\n",
        "n n n n n ...... n\n",
        "\n",
        "(8) Faça um programa que use a função valor Pagamento para determinar o valor a ser pago por uma prestação de uma conta. O programa deverá solicitar ao usuário o valor da prestação e o número de dias em atraso e passar estes valores para a função valorPagamento, que calculará o valor a ser pago e devolverá este valor ao programa que a chamou. O programa deverá então exibir o valor a ser pago na tela. Após a execução o programa deverá voltar a pedir outro valor de prestação e assim continuar até que seja informado um valor igual a zero para a prestação. Neste momento o programa deverá ser encerrado, exibindo o relatório do dia, que conterá a quantidade e o valor total de prestações pagas no dia. O cálculo do valor a ser pago é feito da seguinte forma. Para pagamentos sem atraso, cobrar o valor da prestação. Quando houver atraso, cobrar 3% de multa, mais 0,1% de juros por dia de atraso."
      ],
      "metadata": {
        "id": "a9z6t867Gbwa"
      }
    }
  ]
}