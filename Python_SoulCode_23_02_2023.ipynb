{
  "nbformat": 4,
  "nbformat_minor": 0,
  "metadata": {
    "colab": {
      "provenance": [],
      "collapsed_sections": [
        "pTOXvXVVu7j7",
        "YSjqXLDxu3nr",
        "UgNeQ1MVvEB1",
        "ht7a1Ebm4b8g",
        "0VOEsEDc9-XO"
      ],
      "mount_file_id": "1h1oB6YQmd0TUSsxm0XwKZzQd7E71qlaS",
      "authorship_tag": "ABX9TyPfe65FHLQ77ZqbMK5bagWm",
      "include_colab_link": true
    },
    "kernelspec": {
      "name": "python3",
      "display_name": "Python 3"
    },
    "language_info": {
      "name": "python"
    }
  },
  "cells": [
    {
      "cell_type": "markdown",
      "metadata": {
        "id": "view-in-github",
        "colab_type": "text"
      },
      "source": [
        "<a href=\"https://colab.research.google.com/github/francianerod/Python-SoulCode/blob/main/Python_SoulCode_23_02_2023.ipynb\" target=\"_parent\"><img src=\"https://colab.research.google.com/assets/colab-badge.svg\" alt=\"Open In Colab\"/></a>"
      ]
    },
    {
      "cell_type": "markdown",
      "source": [
        "### **AULA 1: PYTHON EM 23 DE FEVEREIRO DE 2023**"
      ],
      "metadata": {
        "id": "Oh-E20KBJ2P4"
      }
    },
    {
      "cell_type": "markdown",
      "source": [
        "**Escola**: SoulCode Academy\n",
        "\n",
        "**Curso:** Bootcamp Analista de Dados - Martech - AD1\n",
        "\n",
        "**Data:** 23 de fevereiro de 2023\n",
        "\n",
        "**Professor:** Bismark William\n",
        "\n",
        "**Aluna:** Franciane Rodrigues"
      ],
      "metadata": {
        "id": "8dbPrZTmJKLx"
      }
    },
    {
      "cell_type": "markdown",
      "source": [
        "## **Tipos de Variáveis**"
      ],
      "metadata": {
        "id": "pTOXvXVVu7j7"
      }
    },
    {
      "cell_type": "code",
      "execution_count": null,
      "metadata": {
        "colab": {
          "base_uri": "https://localhost:8080/"
        },
        "id": "dDAAlBJqJJuP",
        "outputId": "e3c8f363-4d16-4b54-f265-675064de717f"
      },
      "outputs": [
        {
          "output_type": "stream",
          "name": "stdout",
          "text": [
            "Hello World!\n"
          ]
        }
      ],
      "source": [
        "# Variáveis: alocação no espaço de mémória\n",
        "# Tipos de dados: núméricos (real, complexo, boleano), textos, imagens, vídeos.\n",
        "\n",
        "texto = 'Hello World!'\n",
        "print(texto)"
      ]
    },
    {
      "cell_type": "code",
      "source": [
        "# Comando para saber o tipo de variável\n",
        "type(texto)"
      ],
      "metadata": {
        "colab": {
          "base_uri": "https://localhost:8080/"
        },
        "id": "Obn53qhJQOFy",
        "outputId": "d89e19ce-ba7e-45f3-d265-43ad8bcda298"
      },
      "execution_count": null,
      "outputs": [
        {
          "output_type": "execute_result",
          "data": {
            "text/plain": [
              "str"
            ]
          },
          "metadata": {},
          "execution_count": 4
        }
      ]
    },
    {
      "cell_type": "code",
      "source": [
        "# Aqui é um comentário de uma linha\n",
        "\n",
        "'''\n",
        "Aqui é um comentário\n",
        "de\n",
        "várias\n",
        "linhas\n",
        "'''"
      ],
      "metadata": {
        "colab": {
          "base_uri": "https://localhost:8080/",
          "height": 36
        },
        "id": "qfrJvvbyVZFe",
        "outputId": "d5e1c317-10a8-42fe-d671-8bc45eb38289"
      },
      "execution_count": null,
      "outputs": [
        {
          "output_type": "execute_result",
          "data": {
            "text/plain": [
              "'\\nAqui é um comentário\\nde\\nvárias\\nlinhas\\n'"
            ],
            "application/vnd.google.colaboratory.intrinsic+json": {
              "type": "string"
            }
          },
          "metadata": {},
          "execution_count": 5
        }
      ]
    },
    {
      "cell_type": "code",
      "source": [
        "# Apresentando os tipos de variáveis: int, float, string, bool\n",
        "'''\n",
        "int - para inteiros\n",
        "float - para números reais\n",
        "str - para textos\n",
        "bool - para verdaveiro ou falso\n",
        "'''\n",
        "n1 = 10\n",
        "nota = 7.5\n",
        "nome = 'José Lopes Silva'\n",
        "maior_de_idade = True"
      ],
      "metadata": {
        "id": "fy3ruw3qVfjq"
      },
      "execution_count": null,
      "outputs": []
    },
    {
      "cell_type": "code",
      "source": [
        "# Comando para saber o tipo de variável\n",
        "type(n1)"
      ],
      "metadata": {
        "colab": {
          "base_uri": "https://localhost:8080/"
        },
        "id": "t5sREB9RWDIy",
        "outputId": "a328373b-d50e-4d4a-dd4a-9e68964e2a69"
      },
      "execution_count": null,
      "outputs": [
        {
          "output_type": "execute_result",
          "data": {
            "text/plain": [
              "int"
            ]
          },
          "metadata": {},
          "execution_count": 9
        }
      ]
    },
    {
      "cell_type": "markdown",
      "source": [
        "## **Operadores matemáticos**"
      ],
      "metadata": {
        "id": "YSjqXLDxu3nr"
      }
    },
    {
      "cell_type": "code",
      "source": [
        "# Operadores matemáticos\n",
        "\n",
        "# Soma +\n",
        "\n",
        "n1 = 5\n",
        "n2 = 7\n",
        "soma = n1 + n2\n",
        "print(soma)"
      ],
      "metadata": {
        "colab": {
          "base_uri": "https://localhost:8080/"
        },
        "id": "UGajDFBKWR3G",
        "outputId": "76005cd5-ed32-47c4-bded-fd87104d7e8b"
      },
      "execution_count": null,
      "outputs": [
        {
          "output_type": "stream",
          "name": "stdout",
          "text": [
            "12\n"
          ]
        }
      ]
    },
    {
      "cell_type": "code",
      "source": [
        "# Subtração -\n",
        "\n",
        "n1 = 2\n",
        "n2 = 1\n",
        "sub = n1 - n2\n",
        "print(sub)"
      ],
      "metadata": {
        "colab": {
          "base_uri": "https://localhost:8080/"
        },
        "id": "E3CZ43vsYgts",
        "outputId": "15de235b-aaab-4b2d-88dd-ea3ff0682d92"
      },
      "execution_count": null,
      "outputs": [
        {
          "output_type": "stream",
          "name": "stdout",
          "text": [
            "1\n"
          ]
        }
      ]
    },
    {
      "cell_type": "code",
      "source": [
        "# Mutiplicação *\n",
        "n1 = 3\n",
        "dobro = n1 * 2\n",
        "print(dobro)"
      ],
      "metadata": {
        "colab": {
          "base_uri": "https://localhost:8080/"
        },
        "id": "5NmB8uozYp5I",
        "outputId": "fadf28b6-ff50-4ccd-a667-dc1d17c21bc0"
      },
      "execution_count": null,
      "outputs": [
        {
          "output_type": "stream",
          "name": "stdout",
          "text": [
            "6\n"
          ]
        }
      ]
    },
    {
      "cell_type": "code",
      "source": [
        "# Divisão /\n",
        "\n",
        "n1 = 10\n",
        "n2 = 5\n",
        "print(n1/n2)"
      ],
      "metadata": {
        "colab": {
          "base_uri": "https://localhost:8080/"
        },
        "id": "jJb9C_s7YNGR",
        "outputId": "08540f7f-3e02-42e6-8bc9-f3ea84aca39c"
      },
      "execution_count": null,
      "outputs": [
        {
          "output_type": "stream",
          "name": "stdout",
          "text": [
            "2.0\n"
          ]
        }
      ]
    },
    {
      "cell_type": "code",
      "source": [
        "# Divisão Inteira //\n",
        "\n",
        "n1 = 10\n",
        "n2 = 3\n",
        "\n",
        "div_decimal = n1 / n2\n",
        "div_inteira = n1 // n2\n",
        "\n",
        "print(div_decimal)\n",
        "print(div_inteira)"
      ],
      "metadata": {
        "colab": {
          "base_uri": "https://localhost:8080/"
        },
        "id": "0r8TH-_-Y6eL",
        "outputId": "b63a4280-56aa-4a63-f99e-df8c85eb6ada"
      },
      "execution_count": null,
      "outputs": [
        {
          "output_type": "stream",
          "name": "stdout",
          "text": [
            "3.3333333333333335\n",
            "3\n"
          ]
        }
      ]
    },
    {
      "cell_type": "code",
      "source": [
        "# Exponenciação **\n",
        "\n",
        "n1 = 2\n",
        "n2 = 3\n",
        "exp = n1 ** n2\n",
        "print(exp)"
      ],
      "metadata": {
        "colab": {
          "base_uri": "https://localhost:8080/"
        },
        "id": "MyhhUTQDZWmk",
        "outputId": "5c54c887-6621-45b7-ac4a-36c9dbc6942f"
      },
      "execution_count": null,
      "outputs": [
        {
          "output_type": "stream",
          "name": "stdout",
          "text": [
            "8\n"
          ]
        }
      ]
    },
    {
      "cell_type": "markdown",
      "source": [
        "![Sem título.png](data:image/png;base64,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)"
      ],
      "metadata": {
        "id": "axN1Ahfhbohk"
      }
    },
    {
      "cell_type": "code",
      "source": [
        "# Módulo - Resto da Divisão % - valor do resto da divisão\n",
        "n1 = 10\n",
        "n2 = 3\n",
        "modulo = n1 % n2\n",
        "print(modulo)"
      ],
      "metadata": {
        "colab": {
          "base_uri": "https://localhost:8080/"
        },
        "id": "UU8TL5yeZ45S",
        "outputId": "0cf451d6-bae3-45f0-882e-8367517387ab"
      },
      "execution_count": null,
      "outputs": [
        {
          "output_type": "stream",
          "name": "stdout",
          "text": [
            "1\n"
          ]
        }
      ]
    },
    {
      "cell_type": "code",
      "source": [
        "# Como receber os dados do usuário\n",
        "\n",
        "valor = input('Digite um nome qualquer: ')\n",
        "print(valor)"
      ],
      "metadata": {
        "colab": {
          "base_uri": "https://localhost:8080/"
        },
        "id": "N6cY8HdTbvau",
        "outputId": "c6c0e44a-7a0d-45e2-9196-ff92617bac27"
      },
      "execution_count": null,
      "outputs": [
        {
          "output_type": "stream",
          "name": "stdout",
          "text": [
            "Digite um nome qualquer: Franciane\n",
            "Franciane\n"
          ]
        }
      ]
    },
    {
      "cell_type": "code",
      "source": [
        "# Como receber os dados do usuário\n",
        "# Cuidado: comando input sempre tem saída do tipo string\n",
        "\n",
        "n1 = float(input('Digite um número: '))\n",
        "print(n1)"
      ],
      "metadata": {
        "colab": {
          "base_uri": "https://localhost:8080/"
        },
        "id": "baLkiRg7evJs",
        "outputId": "4e4ebff1-ad74-4fbc-ef97-187ae03c2e21"
      },
      "execution_count": null,
      "outputs": [
        {
          "output_type": "stream",
          "name": "stdout",
          "text": [
            "Digite um número: 10\n",
            "10.0\n"
          ]
        }
      ]
    },
    {
      "cell_type": "code",
      "source": [
        "'''\n",
        "Atividade 1: Crie um algoritmo que leia dois número reais e efetue as 4 operações básicas\n",
        "sobre eles. No final, apresente na tela o resultado dessas operações\n",
        "(soma, subtração, multiplicação e divisão)\n",
        "\n",
        "'''\n",
        "# Entrada de dados \n",
        "n1 = float(input('Digite um número: '))\n",
        "n2 = float(input('Digite outro número: '))\n",
        "\n",
        "# As quatro operações\n",
        "soma = n1 + n2\n",
        "sub = n1 - n2\n",
        "multi = n1 * 2\n",
        "div = n1/n2\n",
        "\n",
        "# Apresentação de resultado\n",
        "print('A soma dos números digitados é: ', soma)\n",
        "print('A subtração dos números digitados é: ', sub)\n",
        "print('A multiplicação dos números digitados é: ', multi)\n",
        "print('A divisão dos números digitados é: ', round(div,2))"
      ],
      "metadata": {
        "colab": {
          "base_uri": "https://localhost:8080/"
        },
        "id": "hWhmvN16g0FZ",
        "outputId": "433fe33a-5e05-43b4-993c-3de753cc6572"
      },
      "execution_count": null,
      "outputs": [
        {
          "output_type": "stream",
          "name": "stdout",
          "text": [
            "Digite um número: 10\n",
            "Digite outro número: 5\n",
            "A soma dos números digitados é:  15.0\n",
            "A subtração dos números digitados é:  5.0\n",
            "A multiplicação dos números digitados é:  20.0\n",
            "A divisão dos números digitados é:  2.0\n"
          ]
        }
      ]
    },
    {
      "cell_type": "code",
      "source": [
        "'''\n",
        "Atividade 2: Crie um algotitmo que leia 3 notas de um aluno e mstre na tela a média artimética desse aluno\n",
        "'''\n",
        "#Entrada de dados\n",
        "nota1 = float(input('Digite a 1° nota: '))\n",
        "nota2 = float(input('Digite a 2° nota: '))\n",
        "nota3 = float(input('Digite a 3° nota: '))\n",
        "\n",
        "# Cálculo da média\n",
        "media = (nota1 + nota2 + nota3) / 3\n",
        "\n",
        "# Mostrando na tela\n",
        "print(f'A média das 3 notas é {media:.2f}')"
      ],
      "metadata": {
        "colab": {
          "base_uri": "https://localhost:8080/"
        },
        "id": "WDWVS1LZhmEv",
        "outputId": "2fa070e5-e0bb-4f13-dc3d-f79addc34810"
      },
      "execution_count": null,
      "outputs": [
        {
          "output_type": "stream",
          "name": "stdout",
          "text": [
            "Digite a 1° nota: 10\n",
            "Digite a 2° nota: 5\n",
            "Digite a 3° nota: 7\n",
            "A média das 3 notas é 7.33\n"
          ]
        }
      ]
    },
    {
      "cell_type": "markdown",
      "source": [
        "## **Operadores relacionais**"
      ],
      "metadata": {
        "id": "UgNeQ1MVvEB1"
      }
    },
    {
      "cell_type": "code",
      "source": [
        "# 1) IGUAL == (True or False)\n",
        "# Verificar se o login digitado foi patricia\n",
        "# Vale lembrar que o Python é sensível com maiúsculo ou minusculo\n",
        "\n",
        "login = input('Digite o seu login: ')\n",
        "login == 'patricia'"
      ],
      "metadata": {
        "colab": {
          "base_uri": "https://localhost:8080/"
        },
        "id": "cpJ9G4ExvHbM",
        "outputId": "282f05dd-8643-4d83-b16f-f3ca83192adf"
      },
      "execution_count": null,
      "outputs": [
        {
          "name": "stdout",
          "output_type": "stream",
          "text": [
            "Digite o seu login: Patricia\n"
          ]
        },
        {
          "output_type": "execute_result",
          "data": {
            "text/plain": [
              "False"
            ]
          },
          "metadata": {},
          "execution_count": 57
        }
      ]
    },
    {
      "cell_type": "code",
      "source": [
        "# 2) DIFERENTE != (True or False)\n",
        "# Verificar se o login digitado é diferente de patricia\n",
        "# Vale lembrar que o Python é sensível com maiúsculo ou minusculo\n",
        "\n",
        "login = input('Digite o seu login: ')\n",
        "login != 'patricia'"
      ],
      "metadata": {
        "colab": {
          "base_uri": "https://localhost:8080/"
        },
        "id": "snL3ELqtvqEM",
        "outputId": "ede9d4ba-8dfa-4337-b838-6244c7dd0def"
      },
      "execution_count": null,
      "outputs": [
        {
          "name": "stdout",
          "output_type": "stream",
          "text": [
            "Digite o seu login: Franciane\n"
          ]
        },
        {
          "output_type": "execute_result",
          "data": {
            "text/plain": [
              "True"
            ]
          },
          "metadata": {},
          "execution_count": 58
        }
      ]
    },
    {
      "cell_type": "code",
      "source": [
        "# 3) MAIOR > (Maior que - True or False)\n",
        "\n",
        "n1 = 10\n",
        "print(n1 > 7)  # Retorna True, pois 10 é maior que 7\n",
        "print(n1 > 17) # Retorna False, pois 10 não é maior que 17"
      ],
      "metadata": {
        "colab": {
          "base_uri": "https://localhost:8080/"
        },
        "id": "4kKN2wNjyjri",
        "outputId": "6020789f-c32d-451b-9a06-85cecba79da4"
      },
      "execution_count": null,
      "outputs": [
        {
          "output_type": "stream",
          "name": "stdout",
          "text": [
            "True\n",
            "False\n"
          ]
        }
      ]
    },
    {
      "cell_type": "code",
      "source": [
        "# 4) MENOR < (Menor que - True or False)\n",
        "n1 = 5\n",
        "n2 = 3\n",
        "\n",
        "print(n1 < n2) # Retorna False, pois 5 não é menor do que 3\n",
        "print(n2 < n1) # Retorna True, pois 3 é maior do que 5"
      ],
      "metadata": {
        "colab": {
          "base_uri": "https://localhost:8080/"
        },
        "id": "0ZnbxONDy8H3",
        "outputId": "8d261934-ae7b-484e-b68a-406b9bb15b14"
      },
      "execution_count": null,
      "outputs": [
        {
          "output_type": "stream",
          "name": "stdout",
          "text": [
            "False\n",
            "True\n"
          ]
        }
      ]
    },
    {
      "cell_type": "code",
      "source": [
        "# 5) Maior ou igual  a >= (True or false)\n",
        "# Serve qualquer uma das condições\n",
        "\n",
        "n1 = 20\n",
        "n2 = 8\n",
        "n3 = 8\n",
        "n4 = 25\n",
        "\n",
        "print(n1 >= n2) # Retorna True, pois 20 é maior que 8\n",
        "print(n2 >= n3) # Retorna True, pois 8 é igual a 8\n",
        "print(n1 >= n4) # Retorna False, pois 20 não é maior nem igual a 25"
      ],
      "metadata": {
        "colab": {
          "base_uri": "https://localhost:8080/"
        },
        "id": "dMTm2kXT0D3_",
        "outputId": "8bd5956e-d309-4f58-8699-7a6f26599184"
      },
      "execution_count": null,
      "outputs": [
        {
          "output_type": "stream",
          "name": "stdout",
          "text": [
            "True\n",
            "True\n",
            "False\n"
          ]
        }
      ]
    },
    {
      "cell_type": "code",
      "source": [
        "# 6) Menor ou igual  a <= (True or false)\n",
        "# Serve qualquer uma das condições\n",
        "\n",
        "n1 = 20\n",
        "n2 = 8\n",
        "n3 = 8\n",
        "n4 = 25\n",
        "\n",
        "print(n1 <= n2) # Retorna False, pois 20 não é menor que 8\n",
        "print(n2 <= n3) # Retorna True, pois 8 é igual a 8\n",
        "print(n1 <= n4) # Retorna True, pois 20 é menor que 25"
      ],
      "metadata": {
        "colab": {
          "base_uri": "https://localhost:8080/"
        },
        "id": "QSH2SMgx0M80",
        "outputId": "0db6383e-7ea0-4503-d221-7a6a3ad3dff9"
      },
      "execution_count": null,
      "outputs": [
        {
          "output_type": "stream",
          "name": "stdout",
          "text": [
            "False\n",
            "True\n",
            "True\n"
          ]
        }
      ]
    },
    {
      "cell_type": "markdown",
      "source": [
        "## **Operadores de atribuição**"
      ],
      "metadata": {
        "id": "ht7a1Ebm4b8g"
      }
    },
    {
      "cell_type": "code",
      "source": [
        "# Atribuição simples (=)\n",
        "numero = 10\n",
        "salario = 1200.00\n",
        "altura = 1.88\n",
        "nome = 'Juliana Carvalho'\n",
        "ativo = True"
      ],
      "metadata": {
        "id": "qneR_G_A4fbe"
      },
      "execution_count": null,
      "outputs": []
    },
    {
      "cell_type": "code",
      "source": [
        "# Atribuição com soma (atribui com um valor já existente na variável)\n",
        "\n",
        "salario = 2500\n",
        "# salario = salario + 300\n",
        "\n",
        "# Forma comprimida de fazer a linha 4, sendo uma forma mais limpa\n",
        "salario += 300  \n",
        "\n",
        "print(salario)"
      ],
      "metadata": {
        "colab": {
          "base_uri": "https://localhost:8080/"
        },
        "id": "SplIctUH5Bhd",
        "outputId": "3db14685-f4aa-4a20-d129-8043b4fc48e9"
      },
      "execution_count": null,
      "outputs": [
        {
          "output_type": "stream",
          "name": "stdout",
          "text": [
            "2800\n"
          ]
        }
      ]
    },
    {
      "cell_type": "code",
      "source": [
        "# Atribuição com subtração\n",
        "\n",
        "saldo_conta = 10000.00\n",
        "saque = 500.00\n",
        "\n",
        "# saldo_conta = saldo_conta - saque\n",
        "\n",
        "# Forma comprimida de fazer a linha 6, sendo uma forma mais limpa\n",
        "saldo_conta -= saque  \n",
        "\n",
        "print(saldo_conta)"
      ],
      "metadata": {
        "colab": {
          "base_uri": "https://localhost:8080/"
        },
        "id": "g1KdGQMC6uMa",
        "outputId": "3fa60dcf-f2d2-4126-e272-2ac083472995"
      },
      "execution_count": null,
      "outputs": [
        {
          "output_type": "stream",
          "name": "stdout",
          "text": [
            "9500.0\n"
          ]
        }
      ]
    },
    {
      "cell_type": "code",
      "source": [
        "# Atribuição com multiplicação\n",
        "valor = 5\n",
        "valor *= 3\n",
        "\n",
        "# Qual será o valor final\n",
        "\n",
        "print(valor)"
      ],
      "metadata": {
        "colab": {
          "base_uri": "https://localhost:8080/"
        },
        "id": "ch69EBF37Gsg",
        "outputId": "36da7c6f-481e-42c1-f588-2155ae6b60e8"
      },
      "execution_count": null,
      "outputs": [
        {
          "output_type": "stream",
          "name": "stdout",
          "text": [
            "15\n"
          ]
        }
      ]
    },
    {
      "cell_type": "code",
      "source": [
        "# Atribuição com exponenciação\n",
        "\n",
        "valor = 5\n",
        "valor **=3\n",
        "print(valor)"
      ],
      "metadata": {
        "colab": {
          "base_uri": "https://localhost:8080/"
        },
        "id": "4oSVEN-67W8F",
        "outputId": "a79a6498-836f-4241-880e-283306b873e1"
      },
      "execution_count": null,
      "outputs": [
        {
          "output_type": "stream",
          "name": "stdout",
          "text": [
            "125\n"
          ]
        }
      ]
    },
    {
      "cell_type": "code",
      "source": [
        "# Atribuição com divisão\n",
        "\n",
        "valor = 10\n",
        "valor /=2\n",
        "\n",
        "# Qual será o valor?\n",
        "print(valor)"
      ],
      "metadata": {
        "colab": {
          "base_uri": "https://localhost:8080/"
        },
        "id": "t2FAecUN8zsN",
        "outputId": "7377b305-e9cd-4675-c600-db87d083756d"
      },
      "execution_count": null,
      "outputs": [
        {
          "output_type": "stream",
          "name": "stdout",
          "text": [
            "5.0\n"
          ]
        }
      ]
    },
    {
      "cell_type": "code",
      "source": [
        "# Atribuição com módulo\n",
        "\n",
        "valor = 10\n",
        "valor %=3\n",
        "\n",
        "# Qual será o valor?\n",
        "print(valor)"
      ],
      "metadata": {
        "colab": {
          "base_uri": "https://localhost:8080/"
        },
        "id": "01cq_3K79I-X",
        "outputId": "3be779d7-37ea-4462-976a-8c37891fa590"
      },
      "execution_count": null,
      "outputs": [
        {
          "output_type": "stream",
          "name": "stdout",
          "text": [
            "1\n"
          ]
        }
      ]
    },
    {
      "cell_type": "markdown",
      "source": [
        "## **Operador unário (++)**"
      ],
      "metadata": {
        "id": "0VOEsEDc9-XO"
      }
    },
    {
      "cell_type": "code",
      "source": [
        "# Operador unário (++)\n",
        "\n",
        "contador = 1\n",
        "contador +=1\n",
        "\n",
        "print(contador)"
      ],
      "metadata": {
        "colab": {
          "base_uri": "https://localhost:8080/"
        },
        "id": "SRQeH051-CfW",
        "outputId": "d655eb5d-97bd-4d73-c550-3bc72a8dc30f"
      },
      "execution_count": null,
      "outputs": [
        {
          "output_type": "stream",
          "name": "stdout",
          "text": [
            "2\n"
          ]
        }
      ]
    }
  ]
}