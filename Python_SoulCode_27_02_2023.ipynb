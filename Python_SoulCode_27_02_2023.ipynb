{
  "nbformat": 4,
  "nbformat_minor": 0,
  "metadata": {
    "colab": {
      "provenance": [],
      "collapsed_sections": [
        "h4tosgRqEldf",
        "0qMznA90IyZD",
        "qK4w3tHHnI04",
        "6nr8T1RWnVX1"
      ],
      "authorship_tag": "ABX9TyO0MNz04z0eIzw7d8lGWOvj",
      "include_colab_link": true
    },
    "kernelspec": {
      "name": "python3",
      "display_name": "Python 3"
    },
    "language_info": {
      "name": "python"
    }
  },
  "cells": [
    {
      "cell_type": "markdown",
      "metadata": {
        "id": "view-in-github",
        "colab_type": "text"
      },
      "source": [
        "<a href=\"https://colab.research.google.com/github/francianerod/Python-SoulCode/blob/main/Python_SoulCode_27_02_2023.ipynb\" target=\"_parent\"><img src=\"https://colab.research.google.com/assets/colab-badge.svg\" alt=\"Open In Colab\"/></a>"
      ]
    },
    {
      "cell_type": "markdown",
      "source": [
        "### **AULA 3: PYTHON EM 27 DE FEVEREIRO DE 2023**"
      ],
      "metadata": {
        "id": "BKkdglr5xjGd"
      }
    },
    {
      "cell_type": "markdown",
      "source": [
        "**Escola**: SoulCode Academy\n",
        "\n",
        "**Curso:** Bootcamp Analista de Dados - Martech - AD1\n",
        "\n",
        "**Data:** 27 de fevereiro de 2023\n",
        "\n",
        "**Professor:** Bismark William\n",
        "\n",
        "**Aluna:** Franciane Rodrigues"
      ],
      "metadata": {
        "id": "NUeX_tpAxejQ"
      }
    },
    {
      "cell_type": "markdown",
      "source": [
        "## **Aplicação If, else e elif**"
      ],
      "metadata": {
        "id": "h4tosgRqEldf"
      }
    },
    {
      "cell_type": "code",
      "execution_count": 3,
      "metadata": {
        "colab": {
          "base_uri": "https://localhost:8080/"
        },
        "id": "oPKEqz6bxeFQ",
        "outputId": "7e321e15-8f93-4d2f-ecae-3b5cc1493b45"
      },
      "outputs": [
        {
          "output_type": "stream",
          "name": "stdout",
          "text": [
            "Digite um número: -98\n",
            "-98 é negativo!\n"
          ]
        }
      ],
      "source": [
        "# Faça um algoritmo que leia um número e informe se o mesmo é positivo, negativo e 0\n",
        "\n",
        "'''\n",
        "1) Ler o número inteiro (n)\n",
        "2) Se o núumero for maior que 0, ele é positivo\n",
        "3) Se o número form menor que 0, ele é negativo\n",
        "4) Se o número for igual a 0, ele é o 0\n",
        "'''\n",
        "\n",
        "# If encadeado ou aninhado\n",
        "'''\n",
        "if condicao1:\n",
        "  blocodecodigo1\n",
        "\n",
        "elif condicao2\n",
        "  blocodecodigo2\n",
        "\n",
        "elif condicao3\n",
        "  blocodecodigo3\n",
        "\n",
        "else:\n",
        "  blocodecodigo\n",
        "'''\n",
        "\n",
        "n = int(input('Digite um número: '))\n",
        "\n",
        "if n > 0:\n",
        "  print(f'{n} é positivo!')\n",
        "\n",
        "elif n < 0:\n",
        "  print(f'{n} é negativo!')\n",
        "\n",
        "else:\n",
        "  print(f'{n} é igual a zero')  \n",
        "\n"
      ]
    },
    {
      "cell_type": "markdown",
      "source": [
        "## **Atividade 1**"
      ],
      "metadata": {
        "id": "0qMznA90IyZD"
      }
    },
    {
      "cell_type": "markdown",
      "source": [
        "1) Construa um algoritmo em Python para determinar se o indivíduo está com um peso favorável. Essa situação é determinada através do IMC (Índice de Massa Corpórea), que é definida como sendo a relação entre o peso (PESO) e o quadrado da Altura (ALTURA) do indivíduo. Ou seja, IMC é igual ao peso dividido pelo quadrado da altura e, a situação do peso é determinada pela tabela abaixo: Condição Situação: \n",
        "\n",
        "\n",
        "\n",
        "*   IMC abaixo de 20 Abaixo do peso\n",
        "*   IMC de 20 até 25 Peso Normal\n",
        "*   IMC de 25 até 30 Sobre Peso\n",
        "*   IMC de 30 até 40 Obeso\n",
        "*   IMC de 40 e acima Obeso Mórbido\n",
        "\n",
        "![Sem título.png](data:image/png;base64,iVBORw0KGgoAAAANSUhEUgAAAPgAAACjCAIAAAAo+kRoAAAAAXNSR0IArs4c6QAAAARnQU1BAACxjwv8YQUAAAAJcEhZcwAAEnQAABJ0Ad5mH3gAAAasSURBVHhe7d3reaM6FEbhqSsFuZ5U42ZcTAaDLluXDdjBQPjW++M8T0DIRFp2fDKTzL8fQAChQwKhQwKhQwKhQwKhQwKhQwKhQwKhQwKhQwKhQwKhQwKhQwKhQwKhQwKhQwKhQwKhQwKhQwKhQwKhQwKhQwKhQwKhQwKhQwKhQwKhQwKhQwKhQwKhQwKhQwKhQwKhQwKhQwKhQwKhQwKhQwKhQwKhQwKhQwKhQwKhQwKhQwKhQwKhQwKhQwKhQwKhQwKhQwKhQwKhQwKhQwKhQwKhQwKhQwKhQwKhQwKhH+3x/fWv9PV1+74/wulROya43cOIYcz9+xZHNRMUxpFmwvbxLojQj+ZF/GUjXgz9fgtHsq/vNt5HfjI0htwvXDuhH82N2JS6FHon85F5rgzufuRR78lxDR8MPe1OvdzT0erwZPbk5GpfeJtleqRFSNnFMU6HaYrp/DDB9HGxiObJMK5YmunxHJ8X1F/5P2330NPR3pLmzehuadrBjuErfTeC0+ssU3MoHvBecOO6mWfGrVzdhZU1j3nR1HcP3bywNCs6d87uhMfr4NTaqtMymG6dzz2tUr6m+4RPp5tlNVYN+qv2Dr3csnJFbed1tPbccy/TSfuF1w996Vly4FPEv7V8U8uhF2Oa2NO5+YTjIh+4Gh+zd+hFzKtPmU3sb9VQ++z3DNxSghOGbm/Jvf1yNexbu+IzWllwd8cuYufQmx3L56rO7aakq97u0S0leHvi32tvzf8++orbNLHnb1Cmx5gvmFf0t/RWNy9lfTKeuTVnrr0BqyJ8IfSnNGWzunMPsm7QX7Vv6OZQdTZ1fu9kTehhjLsA4/dczclm0hSxN0e6YvZG/q59Q7fFFqdN553rfh+62cau92f+tc4yNeKY7m3aNyvT+SH7eKRd+8Hw3qj833n756UHLsUn7Rp6uV/mfFly03Ua+fYmpBkcB+5uu0wt9/ana0zDlWLOmT+FiPLb+qvZNfS4IeFAs30xt2qcHensxBW+6zLTmHv78Zr+gPaz4u+6fECzg/FAWv9qe5rjZqPsi5b7hXcmlfNqlqmjWqjMXFO8AZn7exHTipkJp8HO6KvYM/TmhbrcwE7Wdu/XfOG98ksSfmXH0OPHNkdTeu9wVW7xvKg8X+bDMKCxY+i9l+k8qGy6O3bkfOENZ4G+D4YOnAehQwKhQwKhQwKhQwKhLwjf28GOwtJvitAXhLXHjsLSb4rQF4S1x47C0m+K0CGB0CGB0CGB0CGB0CGB0CGB0CGB0CGB0PFJ+XdxHPwjYISOz6l+9vHIn+kl9I3lvXW2Nf8+g/bnBCdxRDVBvrAUhjlX1T/Q+NTMtPTjiAv3bHpO55+zTZeNh6YhB5ZO6JvKW+5UbJpwxzjJNnkGG4Q+8TJ85Z7TJMN/x+vix88B3gPsgdC31Gx3rWjGG+Yk6+QZhzlXvRC6U/GqezaTTpOUg8Y5nOfIPgh9O7kIb0urZpxqnGQj5/Qbocehj+8y0sK6ex6kgeMAM2Y8cfRvIyH0zZQb3ZNf9NLvxu6ltXvocw8Zzyzc81N3AZ4Hz/AbHQl9M34sQW5m2Pfig9LCRM5p5/Ca0Gde0YvbLD7oqEu3/wLHyPmM9kDoW+kVVagySR82u193WHFOO4fnQm80t55GLt3zpHiw9EHmXLYHQt+KE1pUv9r1jgQLMzmnncMvhN68jX7hnie9BzsJQt/KfJ69QtKxqosDQu/+seUr9xzkmwgHToPQtzKbZ+6jr6hmdqbFolcczjO89O2WSq90Qr++uTzjOZ+tZm6mgXM6dVkG2BttjuWa625fu+cgzxwOnAahb8Xp72m5meKymZmevNPpUfL7kEd+ZPeZlC8r5stX+pobTE8bQr8u5xV1kJrpvATaNmI1vcZMU0Wm1lybxUNXM6TrOg+y9p4n/hocjtA34wToVhE1TaUDRqfBznzOvwpS/4FNPUO6xXgLr9/zaPGyAxH6droFrtj8upr0sWGu7j5MUv47Cf2/ltjOkB5yPPTGPT+duXNC31Jv93WcunNC31T5wqjl5J87oW8qvaqppX76pzihb0wy9ZT5ed+0ETokEDokEDokEDokEDokEDokEDokEDokEDokEDokEDokEDokEDokEDokEDokEDokEDokEDokEDokEDokEDokEDokEDokEDokEDokEDokEDokEDokEDokEDokEDokEDokEDokEDokEDokEDokEDokEDokEDokEDokEDokEDokEDokEDokEDokEDokEDokEDokEDokEDokEDoE/Pz8B/p/MiYlxiLZAAAAAElFTkSuQmCC)"
      ],
      "metadata": {
        "id": "qFzROBL4IG9U"
      }
    },
    {
      "cell_type": "code",
      "source": [
        "# Minha solução\n",
        "\n",
        "# Entrada dos dados\n",
        "peso = float(input('Digite seu peso (kg): '))\n",
        "altura = float(input('Digite seu altura (metros): '))\n",
        "\n",
        "# Calculo\n",
        "imc = (peso) / (altura)**2\n",
        "imc\n",
        "\n",
        "# Decisão\n",
        "if imc < 20.:\n",
        "  print(f'Seu IMC é {imc}, você esta abaixo do peso')\n",
        "\n",
        "elif imc >= 20. and imc < 25.:\n",
        "  print(f'Seu IMC é {imc}, você está com peso normal')\n",
        "\n",
        "elif imc >= 25. and imc < 30.:\n",
        "  print(f' Seu IMC é {imc}, você está com sobrepeso')\n",
        "\n",
        "elif imc >= 30. and imc < 40.:\n",
        "  print(f'Seu IMC é {imc}, você está obeso')\n",
        "\n",
        "else:\n",
        "  print(f'Seu IMC é {imc}, você está obeso mórbido')"
      ],
      "metadata": {
        "colab": {
          "base_uri": "https://localhost:8080/"
        },
        "id": "Fzp3oPK0Gz-q",
        "outputId": "e5cd791a-ec22-4f35-cfca-4b164f7de71d"
      },
      "execution_count": 12,
      "outputs": [
        {
          "output_type": "stream",
          "name": "stdout",
          "text": [
            "Digite seu peso (kg): 90\n",
            "Digite seu altura (metros): 1.70\n",
            "Seu IMC é 31.14186851211073, você está obeso\n"
          ]
        }
      ]
    },
    {
      "cell_type": "code",
      "source": [
        "# Solução do professor\n",
        "\n",
        "'''\n",
        "1) Ler o peso do individuo\n",
        "2) Ler a altura do individuo\n",
        "3) Calcular o imc = pseo / (altura * altura)\n",
        "'''\n",
        "\n",
        "peso = float(input('Digite seu peso (kg): '))\n",
        "altura = float(input('Digite seu altura (metros): '))\n",
        "\n",
        "imc = (peso) / (altura*altura)\n",
        "imc\n",
        "\n",
        "# Decisão\n",
        "if imc < 20.:\n",
        "  print('Você esta abaixo do peso')\n",
        "\n",
        "elif imc < 25.:\n",
        "  print('Você está com peso normal')\n",
        "\n",
        "elif imc < 30.:\n",
        "  print('Você está com sobrepeso')\n",
        "\n",
        "elif imc < 40.:\n",
        "  print('Você está com obesidade')\n",
        "\n",
        "else:\n",
        "  print('Você está com obseidade mórbida')"
      ],
      "metadata": {
        "colab": {
          "base_uri": "https://localhost:8080/"
        },
        "id": "H5UpyK58QoOD",
        "outputId": "c3276c61-6edd-4940-e189-53f54faa101f"
      },
      "execution_count": 13,
      "outputs": [
        {
          "output_type": "stream",
          "name": "stdout",
          "text": [
            "Digite seu peso (kg): 50\n",
            "Digite seu altura (metros): 1.68\n",
            "Você esta abaixo do peso\n"
          ]
        }
      ]
    },
    {
      "cell_type": "markdown",
      "source": [
        "## **Atividade 2**"
      ],
      "metadata": {
        "id": "qK4w3tHHnI04"
      }
    },
    {
      "cell_type": "markdown",
      "source": [
        "2) Criar um algoritmo em Python que leia um número entre 1 e 7 e escreva o dia da semana correspondente. Caso o usuário digite fora desse intervalo, deverá aparecer uma mensagem informando que não existe dia da semana com esse número."
      ],
      "metadata": {
        "id": "OcQ_-X6fSG5R"
      }
    },
    {
      "cell_type": "code",
      "source": [
        "# Minha solução\n",
        "\n",
        "n = int(input('Digite um número relativo ao dia da semana: 1 - segunda, 2 - terça,..., 7- domingo: '))\n",
        "\n",
        "if n == 1:\n",
        "  print('Segunda')\n",
        "\n",
        "elif n == 2:\n",
        "  print('Terça')\n",
        "\n",
        "elif n == 3:\n",
        "  print('Quarta')\n",
        "\n",
        "elif n == 4:\n",
        " print('Quinta')\n",
        "\n",
        "elif n == 5:\n",
        " print('Sexta')\n",
        "\n",
        "elif n == 6:\n",
        " print('Sábado')\n",
        "\n",
        "elif n == 7:\n",
        " print('Domingo')\n",
        "\n",
        "else:\n",
        "  print('Não existe dia da semana com esse número')"
      ],
      "metadata": {
        "colab": {
          "base_uri": "https://localhost:8080/"
        },
        "id": "uN8OauyZTAbi",
        "outputId": "932e62d4-ef03-443f-8a07-cda59997270c"
      },
      "execution_count": 16,
      "outputs": [
        {
          "output_type": "stream",
          "name": "stdout",
          "text": [
            "Digite um número relativo ao dia da semana: 1 - segunda, 2 - terça,..., 7- domingo: 5\n",
            "Sexta\n"
          ]
        }
      ]
    },
    {
      "cell_type": "markdown",
      "source": [
        "## **Atividade 3**"
      ],
      "metadata": {
        "id": "6nr8T1RWnVX1"
      }
    },
    {
      "cell_type": "markdown",
      "source": [
        "A confederação brasileira de natação irá promover eliminatórias para o próximo mundial. \n",
        "\n",
        "Fazer um algoritmo em Python que receba a idade de um nadador e\n",
        "determine (imprima) a sua categoria segundo a tabela a seguir:\n",
        "\n",
        "Categoria Idade\n",
        "\n",
        "\n",
        "*   Infantil A: 5 – 7 anos\n",
        "*   Infantil B: 8 – 10 anos\n",
        "*   Juvenil A: 11 – 13 anos\n",
        "*   Juvenil B 14 – 17 anos\n",
        "*   Sênior Maiores de 18 anos"
      ],
      "metadata": {
        "id": "P-ajtHnsoR6w"
      }
    },
    {
      "cell_type": "code",
      "source": [
        "# Minha solução\n",
        "\n",
        "# Entrada dos dados\n",
        "idade = int(input('Digite a idade do atleta: '))\n",
        "\n",
        "# Decisão\n",
        "if idade >= 5 and idade <= 7:\n",
        "  print('Sua categoria é Infantil A')\n",
        "\n",
        "elif idade >= 8 and idade <= 10.:\n",
        "  print('Sua categoria é Infantil B')\n",
        "\n",
        "elif idade >= 11. and idade <= 13.:\n",
        "  print('Sua categoria é Juvenil A')\n",
        "\n",
        "elif idade >= 11. and idade <= 13.:\n",
        "  print('Sua categoria é Juvenil A')\n",
        "\n",
        "elif  idade >= 14. and idade <= 17.:\n",
        "  print('Sua categoria é Juvenil B')\n",
        "\n",
        "elif idade >= 18:\n",
        "  print('Sua categoria é Sênior: Maiores que 18 anos')\n",
        "\n",
        "else:\n",
        "  print('Não há categoria para essa idade')"
      ],
      "metadata": {
        "colab": {
          "base_uri": "https://localhost:8080/"
        },
        "id": "RY2L_vkqnbX2",
        "outputId": "69198404-1ea9-4044-ae66-1cb7020a7c31"
      },
      "execution_count": 25,
      "outputs": [
        {
          "output_type": "stream",
          "name": "stdout",
          "text": [
            "Digite a idade do atleta: 36\n",
            "Sua categoria é Sênior: Maiores que 18 anos\n"
          ]
        }
      ]
    },
    {
      "cell_type": "markdown",
      "source": [
        "## **Atividade 4**"
      ],
      "metadata": {
        "id": "DrDOY18Qq5-t"
      }
    },
    {
      "cell_type": "markdown",
      "source": [
        "Escreva um algoritmo em Python que dada a idade de uma pessoa, determine sua classificação segundo a seguinte tabela:\n",
        "\n",
        "*   maior de idade;\n",
        "*   menor de idade;\n",
        "*   pessoa idosa (idade superior ou igual a 65 anos)."
      ],
      "metadata": {
        "id": "Dg-AI4CSrFBP"
      }
    },
    {
      "cell_type": "code",
      "source": [
        "# Entrada dos dados\n",
        "idade = int(input('Digite sua idade: '))\n",
        "\n",
        "# Decisão\n",
        "if idade < 18:\n",
        "  print('Menor de idade')\n",
        "\n",
        "elif idade >= 18 and idade < 65:\n",
        "  print('Maior de idade')\n",
        "\n",
        "else:\n",
        "  print('Pessoa idosa')"
      ],
      "metadata": {
        "colab": {
          "base_uri": "https://localhost:8080/"
        },
        "id": "COMebggwq-i2",
        "outputId": "f801af5b-918e-4fd3-ad4a-5c352f70a801"
      },
      "execution_count": 39,
      "outputs": [
        {
          "output_type": "stream",
          "name": "stdout",
          "text": [
            "Digite sua idade: 69\n",
            "Pessoa idosa\n"
          ]
        }
      ]
    },
    {
      "cell_type": "markdown",
      "source": [
        "## **Atividade 5**"
      ],
      "metadata": {
        "id": "s2X6MN4KspAY"
      }
    },
    {
      "cell_type": "markdown",
      "source": [
        "Crie um algoritmo em Python que leia a idade de uma pessoa e informe a sua classe eleitoral:\n",
        "\n",
        "*   não eleitor (abaixo de 16 anos);\n",
        "*   eleitor obrigatório (entre a faixa de 18 e menor de 65 anos);\n",
        "*   eleitor facultativo (de 16 até 18 anos e maior de 65 anos, inclusive)."
      ],
      "metadata": {
        "id": "OG-b4znXssP5"
      }
    },
    {
      "cell_type": "code",
      "source": [
        "# Entrada dos dados\n",
        "idade = int(input('Digite sua idade: '))\n",
        "\n",
        "# Decisão\n",
        "if idade >= 18 and idade < 65:\n",
        "  print('Eleitor obrigatório')\n",
        "\n",
        "elif (idade >=16 and idade < 18) or (idade >= 65):  \n",
        "  print('Eleitor facultativo')\n",
        "\n",
        "else:\n",
        "  print('Não eleitor')"
      ],
      "metadata": {
        "colab": {
          "base_uri": "https://localhost:8080/"
        },
        "id": "HGAuZ-WKsrtL",
        "outputId": "cbe82f10-60b6-4461-ca7f-395be1a9887d"
      },
      "execution_count": 49,
      "outputs": [
        {
          "output_type": "stream",
          "name": "stdout",
          "text": [
            "Digite sua idade: 18\n",
            "Eleitor obrigatório\n"
          ]
        }
      ]
    },
    {
      "cell_type": "markdown",
      "source": [
        "## **Atividade 6**"
      ],
      "metadata": {
        "id": "rWetk2mHvyNs"
      }
    },
    {
      "cell_type": "markdown",
      "source": [
        "Depois da liberação do governo para as mensalidades dos planos de saúde, as pessoas começaram a fazer pesquisas para descobrir um bom plano, não muito caro. \n",
        "\n",
        "Um vendedor de um plano de saúde apresentou a tabela a seguir. \n",
        "\n",
        "Criar um algoritmo em Python que entre com a idade de uma pessoa e imprima o valor que ela deverá pagar, segundo a seguinte tabela:\n",
        "\n",
        "Idade Valor\n",
        "\n",
        "*   Até 10 anos R$ 30,00\n",
        "\n",
        "*   Acima de 10 até 29 anos R$ 60,00\n",
        "\n",
        "*   Acima de 29 até 45 anos R$ 120,00\n",
        "\n",
        "*   Acima de 45 até 59 anos R$ 150,00\n",
        "\n",
        "*   Acima de 59 até 65 anos R$ 250,00\n",
        "\n",
        "*   Maior que 65 anos R$ 400,00"
      ],
      "metadata": {
        "id": "_xGNi7dSv5-h"
      }
    },
    {
      "cell_type": "code",
      "source": [
        "# Entrada dos dados\n",
        "idade = int(input('Digite sua idade: '))\n",
        "\n",
        "# Decisão\n",
        "\n",
        "if idade <= 10:\n",
        "  print('Valor que deverá ser pago é de R$ 30,00')\n",
        "\n",
        "elif idade > 10 and idade <= 29:\n",
        "  print('Valor que deverá ser pago é de R$ 60,00')\n",
        "\n",
        "elif idade > 29 and idade <= 45:\n",
        "  print('Valor que deverá ser pago é de R$ 120,00')\n",
        "\n",
        "elif idade > 45 and idade <= 59:\n",
        "  print('Valor que deverá ser pago é de R$ 150,00')\n",
        "\n",
        "elif idade > 59 and idade <= 65:\n",
        "  print('Valor que deverá ser pago é de R$ 250,00')\n",
        "\n",
        "else:\n",
        "  print('Valor que deverá ser pago é de R$ 400,00')"
      ],
      "metadata": {
        "colab": {
          "base_uri": "https://localhost:8080/"
        },
        "id": "USMZW916v5US",
        "outputId": "66d12a8f-cbbe-4d88-d47a-93ed8b8184e2"
      },
      "execution_count": 53,
      "outputs": [
        {
          "output_type": "stream",
          "name": "stdout",
          "text": [
            "Digite sua idade: 66\n",
            "Valor que deverá ser pago é de R$ 400,00\n"
          ]
        }
      ]
    },
    {
      "cell_type": "markdown",
      "source": [
        "## **Atividade 7**"
      ],
      "metadata": {
        "id": "qvt6SKRNyQSe"
      }
    },
    {
      "cell_type": "markdown",
      "source": [
        "Criar um algoritmo em Python que a partir da idade e peso do paciente calcule a dosagem de determinado medicamento e imprima a receita informando quantas gotas do medicamento o paciente deve tomar por dose. \n",
        "\n",
        "Considere que o medicamento em questão possui 500 mg por ml, e que cada ml corresponde a 20 gotas.\n",
        "\n",
        "*   Adultos ou adolescentes desde 12 anos, inclusive, se tiverem peso igual ou\n",
        "acima de 60 quilos devem tomar 1000 mg; com peso abaixo de 60 quilos\n",
        "devem tomar 875 mg.\n",
        "\n",
        "*   Para crianças e adolescentes abaixo de 12 anos a dosagem é calculada pelo\n",
        "peso corpóreo conforme a tabela a seguir:\n",
        "\n",
        "\n",
        "Peso Dosagem\n",
        "\n",
        "1.   5 kg a 9 kg 125 mg\n",
        "1.   9.1 kg a 16 kg 250 mg\n",
        "1.   16.1 kg a 24 kg 375 mg\n",
        "2.   24.1 kg a 30 kg 500 mg\n",
        "2.   Acima de 30 kg 750 mg"
      ],
      "metadata": {
        "id": "nKbZ2xWvywuQ"
      }
    },
    {
      "cell_type": "code",
      "source": [
        "# Entrada de Dados\n",
        "idade = int(input(\"Digite a idade do paciente: \"))\n",
        "peso = float(input(\"Digite o peso do paciente: \"))\n",
        "\n",
        "# Primeira decisão\n",
        "if idade >= 12 and peso >= 60:\n",
        "    mg = 1000\n",
        "\n",
        "elif idade >= 12 and peso < 60:\n",
        "    mg = 875\n",
        "\n",
        "# Segunda Decisão\n",
        "elif idade < 12:\n",
        "    if peso >= 5 and peso < 9:\n",
        "        mg = 125\n",
        "\n",
        "    elif peso >= 9 and peso < 16:\n",
        "        mg = 250\n",
        "\n",
        "    elif peso >= 16 and peso < 24:\n",
        "        mg = 375\n",
        "\n",
        "    elif peso >= 24 and peso < 30:\n",
        "        mg = 500\n",
        "\n",
        "    elif peso > 30:\n",
        "        mg = 750\n",
        "\n",
        "# Impressão e cálculo\n",
        "print(\"O paciente deve tomar\",(mg/500)*20,\"gotas\")"
      ],
      "metadata": {
        "colab": {
          "base_uri": "https://localhost:8080/"
        },
        "id": "sPumoQQRyVQB",
        "outputId": "9993ce12-997c-4496-c9a7-6d15c9002ffa"
      },
      "execution_count": 60,
      "outputs": [
        {
          "output_type": "stream",
          "name": "stdout",
          "text": [
            "Digite a idade do paciente: 17\n",
            "Digite o peso do paciente: 54\n",
            "O paciente deve tomar 35.0 gotas\n"
          ]
        }
      ]
    },
    {
      "cell_type": "markdown",
      "source": [
        "## **Atividade 8**"
      ],
      "metadata": {
        "id": "h3b01wSUzi8N"
      }
    },
    {
      "cell_type": "markdown",
      "source": [
        "Construa um algoritmo em Python para determinar a situação (APROVADO/EXAME/REPROVADO) de um aluno, dado a sua freqüência (FREQ) (porcentagem de 0 a 100%) e sua nota (NOTA) (nota de 0.0 a 10.0), sendo que:\n",
        "\n",
        "Condição Situação:\n",
        "\n",
        "*   Frequência até 75% Reprovado\n",
        "*   Frequência entre 75% e 100% e Nota até 3.0 Reprovado\n",
        "*   Frequência entre 75% e 100% e Nota de 3.0 até 7.0 Exame\n",
        "*   Frequência entre 75% e 100% e Nota entre 7.0 e 10.0 Aprovado"
      ],
      "metadata": {
        "id": "8XBV2G_iz9em"
      }
    },
    {
      "cell_type": "code",
      "source": [
        "# Entrada dos dados\n",
        "freq = float(input('Digite sua frequencia (%): '))\n",
        "nota = float(input('Digite sua nota: '))\n",
        "\n",
        "# Decisão\n",
        "if (freq >= 75 and freq <= 100) and (nota >= 7. and nota <= 10.):  \n",
        "  print('Aluno Aprovado')\n",
        "\n",
        "elif (freq >= 75 and freq <= 100) and (nota >= 3. and nota < 7.):  \n",
        "  print('Aluno de Exame')\n",
        "\n",
        "elif (freq >= 75 and freq <= 100) and (nota < 3.):  \n",
        "  print('Aluno reprovado')\n",
        "\n",
        "else:\n",
        "  print('Aluno reprovado')"
      ],
      "metadata": {
        "colab": {
          "base_uri": "https://localhost:8080/"
        },
        "id": "lkBf_c7Bzl65",
        "outputId": "2ab09eb9-df16-4f94-ed3c-022a89791099"
      },
      "execution_count": 57,
      "outputs": [
        {
          "output_type": "stream",
          "name": "stdout",
          "text": [
            "Digite sua frequencia (%): 80\n",
            "Digite sua nota: 2\n",
            "Aluno reprovado\n"
          ]
        }
      ]
    }
  ]
}